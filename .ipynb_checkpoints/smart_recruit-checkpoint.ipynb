{
 "cells": [
  {
   "cell_type": "code",
   "execution_count": 11,
   "metadata": {
    "collapsed": true
   },
   "outputs": [],
   "source": [
    "import numpy as np\n",
    "import pandas as pd\n",
    "from pandas import DataFrame,Series\n",
    "import seaborn as sns\n",
    "%matplotlib inline\n",
    "from sklearn import preprocessing"
   ]
  },
  {
   "cell_type": "code",
   "execution_count": 2,
   "metadata": {
    "collapsed": true
   },
   "outputs": [],
   "source": [
    "train = pd.read_csv(\"Train_pjb2QcD.csv\")\n",
    "test = pd.read_csv(\"Test_wyCirpO.csv\")"
   ]
  },
  {
   "cell_type": "code",
   "execution_count": 3,
   "metadata": {
    "collapsed": true
   },
   "outputs": [],
   "source": [
    "train[\"Train\"] = True\n",
    "test[\"Train\"] = False\n",
    "data = pd.concat([train,test])"
   ]
  },
  {
   "cell_type": "code",
   "execution_count": 9,
   "metadata": {
    "collapsed": false
   },
   "outputs": [
    {
     "data": {
      "text/html": [
       "<div>\n",
       "<table border=\"1\" class=\"dataframe\">\n",
       "  <thead>\n",
       "    <tr style=\"text-align: right;\">\n",
       "      <th></th>\n",
       "      <th>count</th>\n",
       "      <th>unique</th>\n",
       "      <th>top</th>\n",
       "      <th>freq</th>\n",
       "    </tr>\n",
       "  </thead>\n",
       "  <tbody>\n",
       "    <tr>\n",
       "      <th>ID</th>\n",
       "      <td>9527</td>\n",
       "      <td>9527</td>\n",
       "      <td>FIN1005235</td>\n",
       "      <td>1</td>\n",
       "    </tr>\n",
       "    <tr>\n",
       "      <th>Application_Receipt_Date</th>\n",
       "      <td>9527</td>\n",
       "      <td>357</td>\n",
       "      <td>5/9/2007</td>\n",
       "      <td>165</td>\n",
       "    </tr>\n",
       "    <tr>\n",
       "      <th>Applicant_Gender</th>\n",
       "      <td>9460</td>\n",
       "      <td>2</td>\n",
       "      <td>M</td>\n",
       "      <td>7179</td>\n",
       "    </tr>\n",
       "    <tr>\n",
       "      <th>Applicant_BirthDate</th>\n",
       "      <td>9454</td>\n",
       "      <td>5836</td>\n",
       "      <td>1/3/1978</td>\n",
       "      <td>24</td>\n",
       "    </tr>\n",
       "    <tr>\n",
       "      <th>Applicant_Marital_Status</th>\n",
       "      <td>9454</td>\n",
       "      <td>4</td>\n",
       "      <td>M</td>\n",
       "      <td>6177</td>\n",
       "    </tr>\n",
       "    <tr>\n",
       "      <th>Applicant_Occupation</th>\n",
       "      <td>8306</td>\n",
       "      <td>5</td>\n",
       "      <td>Salaried</td>\n",
       "      <td>3787</td>\n",
       "    </tr>\n",
       "    <tr>\n",
       "      <th>Applicant_Qualification</th>\n",
       "      <td>9441</td>\n",
       "      <td>11</td>\n",
       "      <td>Class XII</td>\n",
       "      <td>5806</td>\n",
       "    </tr>\n",
       "    <tr>\n",
       "      <th>Manager_DOJ</th>\n",
       "      <td>8844</td>\n",
       "      <td>646</td>\n",
       "      <td>7/9/2007</td>\n",
       "      <td>106</td>\n",
       "    </tr>\n",
       "    <tr>\n",
       "      <th>Manager_Joining_Designation</th>\n",
       "      <td>8844</td>\n",
       "      <td>8</td>\n",
       "      <td>Level 1</td>\n",
       "      <td>4632</td>\n",
       "    </tr>\n",
       "    <tr>\n",
       "      <th>Manager_Current_Designation</th>\n",
       "      <td>8844</td>\n",
       "      <td>5</td>\n",
       "      <td>Level 2</td>\n",
       "      <td>3208</td>\n",
       "    </tr>\n",
       "    <tr>\n",
       "      <th>Manager_Status</th>\n",
       "      <td>8844</td>\n",
       "      <td>2</td>\n",
       "      <td>Confirmation</td>\n",
       "      <td>5277</td>\n",
       "    </tr>\n",
       "    <tr>\n",
       "      <th>Manager_Gender</th>\n",
       "      <td>8844</td>\n",
       "      <td>2</td>\n",
       "      <td>M</td>\n",
       "      <td>7627</td>\n",
       "    </tr>\n",
       "    <tr>\n",
       "      <th>Manager_DoB</th>\n",
       "      <td>8844</td>\n",
       "      <td>1245</td>\n",
       "      <td>2/11/1961</td>\n",
       "      <td>45</td>\n",
       "    </tr>\n",
       "  </tbody>\n",
       "</table>\n",
       "</div>"
      ],
      "text/plain": [
       "                            count unique           top  freq\n",
       "ID                           9527   9527    FIN1005235     1\n",
       "Application_Receipt_Date     9527    357      5/9/2007   165\n",
       "Applicant_Gender             9460      2             M  7179\n",
       "Applicant_BirthDate          9454   5836      1/3/1978    24\n",
       "Applicant_Marital_Status     9454      4             M  6177\n",
       "Applicant_Occupation         8306      5      Salaried  3787\n",
       "Applicant_Qualification      9441     11     Class XII  5806\n",
       "Manager_DOJ                  8844    646      7/9/2007   106\n",
       "Manager_Joining_Designation  8844      8       Level 1  4632\n",
       "Manager_Current_Designation  8844      5       Level 2  3208\n",
       "Manager_Status               8844      2  Confirmation  5277\n",
       "Manager_Gender               8844      2             M  7627\n",
       "Manager_DoB                  8844   1245     2/11/1961    45"
      ]
     },
     "execution_count": 9,
     "metadata": {},
     "output_type": "execute_result"
    }
   ],
   "source": [
    "train.describe(include=['O']).transpose()"
   ]
  },
  {
   "cell_type": "code",
   "execution_count": 5,
   "metadata": {
    "collapsed": false
   },
   "outputs": [
    {
     "name": "stdout",
     "output_type": "stream",
     "text": [
      "<class 'pandas.core.frame.DataFrame'>\n",
      "Int64Index: 14572 entries, 0 to 5044\n",
      "Data columns (total 24 columns):\n",
      "Applicant_BirthDate            14476 non-null object\n",
      "Applicant_City_PIN             14441 non-null float64\n",
      "Applicant_Gender               14483 non-null object\n",
      "Applicant_Marital_Status       14469 non-null object\n",
      "Applicant_Occupation           12347 non-null object\n",
      "Applicant_Qualification        14442 non-null object\n",
      "Application_Receipt_Date       14572 non-null object\n",
      "Business_Sourced               9527 non-null float64\n",
      "ID                             14572 non-null object\n",
      "Manager_Business               13065 non-null float64\n",
      "Manager_Business2              13065 non-null float64\n",
      "Manager_Current_Designation    13065 non-null object\n",
      "Manager_DOJ                    13065 non-null object\n",
      "Manager_DoB                    13065 non-null object\n",
      "Manager_Gender                 13065 non-null object\n",
      "Manager_Grade                  13065 non-null float64\n",
      "Manager_Joining_Designation    13065 non-null object\n",
      "Manager_Num_Application        13065 non-null float64\n",
      "Manager_Num_Coded              13065 non-null float64\n",
      "Manager_Num_Products           13065 non-null float64\n",
      "Manager_Num_Products2          13065 non-null float64\n",
      "Manager_Status                 13065 non-null object\n",
      "Office_PIN                     14572 non-null int64\n",
      "Train                          14572 non-null bool\n",
      "dtypes: bool(1), float64(9), int64(1), object(13)\n",
      "memory usage: 2.7+ MB\n"
     ]
    }
   ],
   "source": [
    "data.info()"
   ]
  },
  {
   "cell_type": "code",
   "execution_count": 6,
   "metadata": {
    "collapsed": false
   },
   "outputs": [
    {
     "data": {
      "text/plain": [
       "Index(['ID', 'Application_Receipt_Date', 'Applicant_Gender',\n",
       "       'Applicant_BirthDate', 'Applicant_Marital_Status',\n",
       "       'Applicant_Occupation', 'Applicant_Qualification', 'Manager_DOJ',\n",
       "       'Manager_Joining_Designation', 'Manager_Current_Designation',\n",
       "       'Manager_Status', 'Manager_Gender', 'Manager_DoB'],\n",
       "      dtype='object')"
      ]
     },
     "execution_count": 6,
     "metadata": {},
     "output_type": "execute_result"
    }
   ],
   "source": [
    "cat_variables = train.dtypes.loc[train.dtypes==\"object\",].index\n",
    "cat_variables"
   ]
  },
  {
   "cell_type": "code",
   "execution_count": 7,
   "metadata": {
    "collapsed": false
   },
   "outputs": [
    {
     "name": "stdout",
     "output_type": "stream",
     "text": [
      "office pin =  98\n",
      "city pin =  2980\n"
     ]
    }
   ],
   "source": [
    "print(\"office pin = \",len(train[\"Office_PIN\"].unique()))\n",
    "print(\"city pin = \",len(train[\"Applicant_City_PIN\"].unique()))"
   ]
  },
  {
   "cell_type": "code",
   "execution_count": 8,
   "metadata": {
    "collapsed": false
   },
   "outputs": [
    {
     "data": {
      "text/plain": [
       "Applicant_City_PIN  Business_Sourced\n",
       "110001.0            0                   1\n",
       "                    1                   1\n",
       "110003.0            0                   2\n",
       "                    1                   1\n",
       "110004.0            0                   2\n",
       "110005.0            0                   2\n",
       "110006.0            0                   3\n",
       "                    1                   1\n",
       "110007.0            0                   4\n",
       "110008.0            1                   1\n",
       "Name: ID, dtype: int64"
      ]
     },
     "execution_count": 8,
     "metadata": {},
     "output_type": "execute_result"
    }
   ],
   "source": [
    "train.groupby([\"Applicant_City_PIN\",\"Business_Sourced\"])[\"ID\"].count().head(10)"
   ]
  },
  {
   "cell_type": "code",
   "execution_count": 9,
   "metadata": {
    "collapsed": false
   },
   "outputs": [
    {
     "data": {
      "text/plain": [
       "Office_PIN  Business_Sourced\n",
       "110005      0                   109\n",
       "            1                    37\n",
       "110034      0                     3\n",
       "121002      0                   162\n",
       "            1                    74\n",
       "122002      0                    73\n",
       "            1                    25\n",
       "124001      0                    10\n",
       "125001      0                    58\n",
       "            1                    20\n",
       "Name: ID, dtype: int64"
      ]
     },
     "execution_count": 9,
     "metadata": {},
     "output_type": "execute_result"
    }
   ],
   "source": [
    "train.groupby([\"Office_PIN\",\"Business_Sourced\"])[\"ID\"].count().head(10)"
   ]
  },
  {
   "cell_type": "code",
   "execution_count": 10,
   "metadata": {
    "collapsed": false
   },
   "outputs": [
    {
     "data": {
      "text/plain": [
       "True     4982\n",
       "False      63\n",
       "Name: Office_PIN, dtype: int64"
      ]
     },
     "execution_count": 10,
     "metadata": {},
     "output_type": "execute_result"
    }
   ],
   "source": [
    "test[\"Office_PIN\"].isin(train[\"Office_PIN\"]).value_counts()"
   ]
  },
  {
   "cell_type": "markdown",
   "metadata": {},
   "source": [
    "# categorical variables"
   ]
  },
  {
   "cell_type": "code",
   "execution_count": 11,
   "metadata": {
    "collapsed": false
   },
   "outputs": [
    {
     "data": {
      "text/plain": [
       "ID                             9527\n",
       "Application_Receipt_Date        357\n",
       "Applicant_Gender                  3\n",
       "Applicant_BirthDate            5837\n",
       "Applicant_Marital_Status          5\n",
       "Applicant_Occupation              6\n",
       "Applicant_Qualification          12\n",
       "Manager_DOJ                     647\n",
       "Manager_Joining_Designation       9\n",
       "Manager_Current_Designation       6\n",
       "Manager_Status                    3\n",
       "Manager_Gender                    3\n",
       "Manager_DoB                    1246\n",
       "dtype: int64"
      ]
     },
     "execution_count": 11,
     "metadata": {},
     "output_type": "execute_result"
    }
   ],
   "source": [
    "train[cat_variables].apply(lambda x: len(x.unique()))"
   ]
  },
  {
   "cell_type": "markdown",
   "metadata": {},
   "source": [
    "### gender"
   ]
  },
  {
   "cell_type": "markdown",
   "metadata": {},
   "source": [
    "#### applicant"
   ]
  },
  {
   "cell_type": "code",
   "execution_count": 12,
   "metadata": {
    "collapsed": false
   },
   "outputs": [
    {
     "data": {
      "text/html": [
       "<div>\n",
       "<table border=\"1\" class=\"dataframe\">\n",
       "  <thead>\n",
       "    <tr style=\"text-align: right;\">\n",
       "      <th>Business_Sourced</th>\n",
       "      <th>0</th>\n",
       "      <th>1</th>\n",
       "      <th>All</th>\n",
       "    </tr>\n",
       "    <tr>\n",
       "      <th>Applicant_Gender</th>\n",
       "      <th></th>\n",
       "      <th></th>\n",
       "      <th></th>\n",
       "    </tr>\n",
       "  </thead>\n",
       "  <tbody>\n",
       "    <tr>\n",
       "      <th>F</th>\n",
       "      <td>1402</td>\n",
       "      <td>879</td>\n",
       "      <td>2281</td>\n",
       "    </tr>\n",
       "    <tr>\n",
       "      <th>M</th>\n",
       "      <td>4791</td>\n",
       "      <td>2388</td>\n",
       "      <td>7179</td>\n",
       "    </tr>\n",
       "    <tr>\n",
       "      <th>All</th>\n",
       "      <td>6260</td>\n",
       "      <td>3267</td>\n",
       "      <td>9527</td>\n",
       "    </tr>\n",
       "  </tbody>\n",
       "</table>\n",
       "</div>"
      ],
      "text/plain": [
       "Business_Sourced     0     1   All\n",
       "Applicant_Gender                  \n",
       "F                 1402   879  2281\n",
       "M                 4791  2388  7179\n",
       "All               6260  3267  9527"
      ]
     },
     "execution_count": 12,
     "metadata": {},
     "output_type": "execute_result"
    }
   ],
   "source": [
    "pd.crosstab(train[\"Applicant_Gender\"],train[\"Business_Sourced\"],margins=True)"
   ]
  },
  {
   "cell_type": "markdown",
   "metadata": {},
   "source": [
    "#### manager"
   ]
  },
  {
   "cell_type": "code",
   "execution_count": 13,
   "metadata": {
    "collapsed": false
   },
   "outputs": [
    {
     "data": {
      "text/html": [
       "<div>\n",
       "<table border=\"1\" class=\"dataframe\">\n",
       "  <thead>\n",
       "    <tr style=\"text-align: right;\">\n",
       "      <th>Business_Sourced</th>\n",
       "      <th>0</th>\n",
       "      <th>1</th>\n",
       "      <th>All</th>\n",
       "    </tr>\n",
       "    <tr>\n",
       "      <th>Manager_Gender</th>\n",
       "      <th></th>\n",
       "      <th></th>\n",
       "      <th></th>\n",
       "    </tr>\n",
       "  </thead>\n",
       "  <tbody>\n",
       "    <tr>\n",
       "      <th>F</th>\n",
       "      <td>750</td>\n",
       "      <td>467</td>\n",
       "      <td>1217</td>\n",
       "    </tr>\n",
       "    <tr>\n",
       "      <th>M</th>\n",
       "      <td>5063</td>\n",
       "      <td>2564</td>\n",
       "      <td>7627</td>\n",
       "    </tr>\n",
       "    <tr>\n",
       "      <th>All</th>\n",
       "      <td>6260</td>\n",
       "      <td>3267</td>\n",
       "      <td>9527</td>\n",
       "    </tr>\n",
       "  </tbody>\n",
       "</table>\n",
       "</div>"
      ],
      "text/plain": [
       "Business_Sourced     0     1   All\n",
       "Manager_Gender                    \n",
       "F                  750   467  1217\n",
       "M                 5063  2564  7627\n",
       "All               6260  3267  9527"
      ]
     },
     "execution_count": 13,
     "metadata": {},
     "output_type": "execute_result"
    }
   ],
   "source": [
    "pd.crosstab(train[\"Manager_Gender\"],train[\"Business_Sourced\"],margins=True)"
   ]
  },
  {
   "cell_type": "code",
   "execution_count": 14,
   "metadata": {
    "collapsed": false
   },
   "outputs": [
    {
     "name": "stdout",
     "output_type": "stream",
     "text": [
      "Manager_Gender       F     M   All\n",
      "Applicant_Gender                  \n",
      "F                  527  1608  2281\n",
      "M                  683  5973  7179\n",
      "All               1217  7627  9527\n"
     ]
    },
    {
     "data": {
      "text/plain": [
       "<matplotlib.axes._subplots.AxesSubplot at 0x7fe77df54940>"
      ]
     },
     "execution_count": 14,
     "metadata": {},
     "output_type": "execute_result"
    },
    {
     "data": {
      "image/png": "[encoded data removed]",
      "text/plain": [
       "<matplotlib.figure.Figure at 0x7fe77df4d9e8>"
      ]
     },
     "metadata": {},
     "output_type": "display_data"
    }
   ],
   "source": [
    "ct = pd.crosstab(train[\"Applicant_Gender\"],train[\"Manager_Gender\"],margins=True)\n",
    "print(ct)\n",
    "ct.iloc[:-1,:-1].plot(kind=\"bar\", stacked=True, color=['red','blue'])"
   ]
  },
  {
   "cell_type": "markdown",
   "metadata": {},
   "source": [
    "### marital status"
   ]
  },
  {
   "cell_type": "code",
   "execution_count": 15,
   "metadata": {
    "collapsed": false
   },
   "outputs": [
    {
     "data": {
      "text/plain": [
       "M    6177\n",
       "S    3267\n",
       "W       6\n",
       "D       4\n",
       "Name: Applicant_Marital_Status, dtype: int64"
      ]
     },
     "execution_count": 15,
     "metadata": {},
     "output_type": "execute_result"
    }
   ],
   "source": [
    "train[\"Applicant_Marital_Status\"].value_counts()"
   ]
  },
  {
   "cell_type": "code",
   "execution_count": 16,
   "metadata": {
    "collapsed": false
   },
   "outputs": [
    {
     "data": {
      "text/html": [
       "<div>\n",
       "<table border=\"1\" class=\"dataframe\">\n",
       "  <thead>\n",
       "    <tr style=\"text-align: right;\">\n",
       "      <th>Applicant_Marital_Status</th>\n",
       "      <th>D</th>\n",
       "      <th>M</th>\n",
       "      <th>S</th>\n",
       "      <th>W</th>\n",
       "      <th>All</th>\n",
       "    </tr>\n",
       "    <tr>\n",
       "      <th>Business_Sourced</th>\n",
       "      <th></th>\n",
       "      <th></th>\n",
       "      <th></th>\n",
       "      <th></th>\n",
       "      <th></th>\n",
       "    </tr>\n",
       "  </thead>\n",
       "  <tbody>\n",
       "    <tr>\n",
       "      <th>0</th>\n",
       "      <td>0.00021</td>\n",
       "      <td>0.422064</td>\n",
       "      <td>0.226829</td>\n",
       "      <td>0.000315</td>\n",
       "      <td>0.65708</td>\n",
       "    </tr>\n",
       "    <tr>\n",
       "      <th>1</th>\n",
       "      <td>0.00021</td>\n",
       "      <td>0.226304</td>\n",
       "      <td>0.116091</td>\n",
       "      <td>0.000315</td>\n",
       "      <td>0.34292</td>\n",
       "    </tr>\n",
       "    <tr>\n",
       "      <th>All</th>\n",
       "      <td>0.00042</td>\n",
       "      <td>0.648368</td>\n",
       "      <td>0.342920</td>\n",
       "      <td>0.000630</td>\n",
       "      <td>1.00000</td>\n",
       "    </tr>\n",
       "  </tbody>\n",
       "</table>\n",
       "</div>"
      ],
      "text/plain": [
       "Applicant_Marital_Status        D         M         S         W      All\n",
       "Business_Sourced                                                        \n",
       "0                         0.00021  0.422064  0.226829  0.000315  0.65708\n",
       "1                         0.00021  0.226304  0.116091  0.000315  0.34292\n",
       "All                       0.00042  0.648368  0.342920  0.000630  1.00000"
      ]
     },
     "execution_count": 16,
     "metadata": {},
     "output_type": "execute_result"
    }
   ],
   "source": [
    "pd.crosstab(train[\"Business_Sourced\"],train[\"Applicant_Marital_Status\"],margins=True)/train.shape[0]"
   ]
  },
  {
   "cell_type": "markdown",
   "metadata": {},
   "source": [
    "### occupation"
   ]
  },
  {
   "cell_type": "code",
   "execution_count": 17,
   "metadata": {
    "collapsed": false
   },
   "outputs": [
    {
     "data": {
      "text/plain": [
       "Salaried         3787\n",
       "Business         2303\n",
       "Others           1966\n",
       "Self Employed     149\n",
       "Student           101\n",
       "Name: Applicant_Occupation, dtype: int64"
      ]
     },
     "execution_count": 17,
     "metadata": {},
     "output_type": "execute_result"
    }
   ],
   "source": [
    "train[\"Applicant_Occupation\"].value_counts()"
   ]
  },
  {
   "cell_type": "code",
   "execution_count": 18,
   "metadata": {
    "collapsed": false
   },
   "outputs": [
    {
     "data": {
      "text/plain": [
       "0    834\n",
       "1    387\n",
       "Name: Business_Sourced, dtype: int64"
      ]
     },
     "execution_count": 18,
     "metadata": {},
     "output_type": "execute_result"
    }
   ],
   "source": [
    "train.loc[pd.isnull(train[\"Applicant_Occupation\"]),\"Business_Sourced\"].value_counts()"
   ]
  },
  {
   "cell_type": "code",
   "execution_count": 19,
   "metadata": {
    "collapsed": false
   },
   "outputs": [
    {
     "data": {
      "text/html": [
       "<div>\n",
       "<table border=\"1\" class=\"dataframe\">\n",
       "  <thead>\n",
       "    <tr style=\"text-align: right;\">\n",
       "      <th>Applicant_Occupation</th>\n",
       "      <th>Business</th>\n",
       "      <th>Others</th>\n",
       "      <th>Salaried</th>\n",
       "      <th>Self Employed</th>\n",
       "      <th>Student</th>\n",
       "      <th>All</th>\n",
       "    </tr>\n",
       "    <tr>\n",
       "      <th>Business_Sourced</th>\n",
       "      <th></th>\n",
       "      <th></th>\n",
       "      <th></th>\n",
       "      <th></th>\n",
       "      <th></th>\n",
       "      <th></th>\n",
       "    </tr>\n",
       "  </thead>\n",
       "  <tbody>\n",
       "    <tr>\n",
       "      <th>0</th>\n",
       "      <td>0.160386</td>\n",
       "      <td>0.130261</td>\n",
       "      <td>0.257794</td>\n",
       "      <td>0.01564</td>\n",
       "      <td>0.005458</td>\n",
       "      <td>0.65708</td>\n",
       "    </tr>\n",
       "    <tr>\n",
       "      <th>1</th>\n",
       "      <td>0.081348</td>\n",
       "      <td>0.076100</td>\n",
       "      <td>0.139708</td>\n",
       "      <td>0.00000</td>\n",
       "      <td>0.005143</td>\n",
       "      <td>0.34292</td>\n",
       "    </tr>\n",
       "    <tr>\n",
       "      <th>All</th>\n",
       "      <td>0.241734</td>\n",
       "      <td>0.206361</td>\n",
       "      <td>0.397502</td>\n",
       "      <td>0.01564</td>\n",
       "      <td>0.010601</td>\n",
       "      <td>1.00000</td>\n",
       "    </tr>\n",
       "  </tbody>\n",
       "</table>\n",
       "</div>"
      ],
      "text/plain": [
       "Applicant_Occupation  Business    Others  Salaried  Self Employed   Student  \\\n",
       "Business_Sourced                                                              \n",
       "0                     0.160386  0.130261  0.257794        0.01564  0.005458   \n",
       "1                     0.081348  0.076100  0.139708        0.00000  0.005143   \n",
       "All                   0.241734  0.206361  0.397502        0.01564  0.010601   \n",
       "\n",
       "Applicant_Occupation      All  \n",
       "Business_Sourced               \n",
       "0                     0.65708  \n",
       "1                     0.34292  \n",
       "All                   1.00000  "
      ]
     },
     "execution_count": 19,
     "metadata": {},
     "output_type": "execute_result"
    }
   ],
   "source": [
    "pd.crosstab(train[\"Business_Sourced\"],train[\"Applicant_Occupation\"],margins=True)/train.shape[0]"
   ]
  },
  {
   "cell_type": "markdown",
   "metadata": {},
   "source": [
    "### qualification"
   ]
  },
  {
   "cell_type": "code",
   "execution_count": 20,
   "metadata": {
    "collapsed": false
   },
   "outputs": [
    {
     "data": {
      "text/plain": [
       "Class XII                                                           5806\n",
       "Graduate                                                            3196\n",
       "Class X                                                              225\n",
       "Others                                                               132\n",
       "Masters of Business Administration                                    74\n",
       "Associate / Fellow of Institute of Chartered Accountans of India       3\n",
       "Certified Associateship of Indian Institute of Bankers                 1\n",
       "Professional Qualification in Marketing                                1\n",
       "Associate/Fellow of Institute of Company Secretories of India          1\n",
       "Associate/Fellow of Acturial Society of India                          1\n",
       "Associate/Fellow of Insurance Institute of India                       1\n",
       "Name: Applicant_Qualification, dtype: int64"
      ]
     },
     "execution_count": 20,
     "metadata": {},
     "output_type": "execute_result"
    }
   ],
   "source": [
    "train[\"Applicant_Qualification\"].value_counts()"
   ]
  },
  {
   "cell_type": "code",
   "execution_count": 21,
   "metadata": {
    "collapsed": false
   },
   "outputs": [
    {
     "data": {
      "text/html": [
       "<div>\n",
       "<table border=\"1\" class=\"dataframe\">\n",
       "  <thead>\n",
       "    <tr style=\"text-align: right;\">\n",
       "      <th>Applicant_Qualification</th>\n",
       "      <th>Associate / Fellow of Institute of Chartered Accountans of India</th>\n",
       "      <th>Associate/Fellow of Acturial Society of India</th>\n",
       "      <th>Associate/Fellow of Institute of Company Secretories of India</th>\n",
       "      <th>Associate/Fellow of Insurance Institute of India</th>\n",
       "      <th>Certified Associateship of Indian Institute of Bankers</th>\n",
       "      <th>Class X</th>\n",
       "      <th>Class XII</th>\n",
       "      <th>Graduate</th>\n",
       "      <th>Masters of Business Administration</th>\n",
       "      <th>Others</th>\n",
       "      <th>Professional Qualification in Marketing</th>\n",
       "      <th>All</th>\n",
       "    </tr>\n",
       "    <tr>\n",
       "      <th>Business_Sourced</th>\n",
       "      <th></th>\n",
       "      <th></th>\n",
       "      <th></th>\n",
       "      <th></th>\n",
       "      <th></th>\n",
       "      <th></th>\n",
       "      <th></th>\n",
       "      <th></th>\n",
       "      <th></th>\n",
       "      <th></th>\n",
       "      <th></th>\n",
       "      <th></th>\n",
       "    </tr>\n",
       "  </thead>\n",
       "  <tbody>\n",
       "    <tr>\n",
       "      <th>0</th>\n",
       "      <td>0.000210</td>\n",
       "      <td>0.000105</td>\n",
       "      <td>0.000105</td>\n",
       "      <td>0.000000</td>\n",
       "      <td>0.000000</td>\n",
       "      <td>0.016689</td>\n",
       "      <td>0.408628</td>\n",
       "      <td>0.209930</td>\n",
       "      <td>0.004933</td>\n",
       "      <td>0.007453</td>\n",
       "      <td>0.000000</td>\n",
       "      <td>0.65708</td>\n",
       "    </tr>\n",
       "    <tr>\n",
       "      <th>1</th>\n",
       "      <td>0.000105</td>\n",
       "      <td>0.000000</td>\n",
       "      <td>0.000000</td>\n",
       "      <td>0.000105</td>\n",
       "      <td>0.000105</td>\n",
       "      <td>0.006928</td>\n",
       "      <td>0.200798</td>\n",
       "      <td>0.125538</td>\n",
       "      <td>0.002834</td>\n",
       "      <td>0.006403</td>\n",
       "      <td>0.000105</td>\n",
       "      <td>0.34292</td>\n",
       "    </tr>\n",
       "    <tr>\n",
       "      <th>All</th>\n",
       "      <td>0.000315</td>\n",
       "      <td>0.000105</td>\n",
       "      <td>0.000105</td>\n",
       "      <td>0.000105</td>\n",
       "      <td>0.000105</td>\n",
       "      <td>0.023617</td>\n",
       "      <td>0.609426</td>\n",
       "      <td>0.335468</td>\n",
       "      <td>0.007767</td>\n",
       "      <td>0.013855</td>\n",
       "      <td>0.000105</td>\n",
       "      <td>1.00000</td>\n",
       "    </tr>\n",
       "  </tbody>\n",
       "</table>\n",
       "</div>"
      ],
      "text/plain": [
       "Applicant_Qualification  Associate / Fellow of Institute of Chartered Accountans of India  \\\n",
       "Business_Sourced                                                                            \n",
       "0                                                                 0.000210                  \n",
       "1                                                                 0.000105                  \n",
       "All                                                               0.000315                  \n",
       "\n",
       "Applicant_Qualification  Associate/Fellow of Acturial Society of India  \\\n",
       "Business_Sourced                                                         \n",
       "0                                                             0.000105   \n",
       "1                                                             0.000000   \n",
       "All                                                           0.000105   \n",
       "\n",
       "Applicant_Qualification  Associate/Fellow of Institute of Company Secretories of India  \\\n",
       "Business_Sourced                                                                         \n",
       "0                                                                 0.000105               \n",
       "1                                                                 0.000000               \n",
       "All                                                               0.000105               \n",
       "\n",
       "Applicant_Qualification  Associate/Fellow of Insurance Institute of India  \\\n",
       "Business_Sourced                                                            \n",
       "0                                                                0.000000   \n",
       "1                                                                0.000105   \n",
       "All                                                              0.000105   \n",
       "\n",
       "Applicant_Qualification  Certified Associateship of Indian Institute of Bankers  \\\n",
       "Business_Sourced                                                                  \n",
       "0                                                                 0.000000        \n",
       "1                                                                 0.000105        \n",
       "All                                                               0.000105        \n",
       "\n",
       "Applicant_Qualification   Class X  Class XII  Graduate  \\\n",
       "Business_Sourced                                         \n",
       "0                        0.016689   0.408628  0.209930   \n",
       "1                        0.006928   0.200798  0.125538   \n",
       "All                      0.023617   0.609426  0.335468   \n",
       "\n",
       "Applicant_Qualification  Masters of Business Administration    Others  \\\n",
       "Business_Sourced                                                        \n",
       "0                                                  0.004933  0.007453   \n",
       "1                                                  0.002834  0.006403   \n",
       "All                                                0.007767  0.013855   \n",
       "\n",
       "Applicant_Qualification  Professional Qualification in Marketing      All  \n",
       "Business_Sourced                                                           \n",
       "0                                                       0.000000  0.65708  \n",
       "1                                                       0.000105  0.34292  \n",
       "All                                                     0.000105  1.00000  "
      ]
     },
     "execution_count": 21,
     "metadata": {},
     "output_type": "execute_result"
    }
   ],
   "source": [
    "pd.crosstab(train[\"Business_Sourced\"],train[\"Applicant_Qualification\"],margins=True)/train.shape[0]"
   ]
  },
  {
   "cell_type": "code",
   "execution_count": 22,
   "metadata": {
    "collapsed": false
   },
   "outputs": [
    {
     "data": {
      "text/plain": [
       "Graduate                                                                              3375\n",
       "Class XII                                                                             1357\n",
       "Others                                                                                 171\n",
       "Masters of Business Administration                                                      71\n",
       "Class X                                                                                 19\n",
       "Professional Qualification in Marketing                                                  5\n",
       "Associate / Fellow of Institute of Chartered Accountans of India                         2\n",
       "Associate/Fellow of Institute of Institute of Costs and Works Accountants of India       1\n",
       "Name: Applicant_Qualification, dtype: int64"
      ]
     },
     "execution_count": 22,
     "metadata": {},
     "output_type": "execute_result"
    }
   ],
   "source": [
    "test[\"Applicant_Qualification\"].value_counts()"
   ]
  },
  {
   "cell_type": "markdown",
   "metadata": {},
   "source": [
    "### converting the dates"
   ]
  },
  {
   "cell_type": "markdown",
   "metadata": {},
   "source": [
    "# feature engineering"
   ]
  },
  {
   "cell_type": "code",
   "execution_count": 295,
   "metadata": {
    "collapsed": false
   },
   "outputs": [],
   "source": [
    "from datetime import date\n",
    "from datetime import datetime\n",
    "def calculate_age(date):\n",
    "    born,today = date\n",
    "    if born != born:\n",
    "        return np.nan\n",
    "    born = datetime.strptime(born,\"%m/%d/%Y\")\n",
    "    today = datetime.strptime(today,\"%m/%d/%Y\")\n",
    "    return today.year - born.year - ((today.month, today.day) < (born.month, born.day))\n",
    "data[\"Applicant_Age\"] = data[[\"Applicant_BirthDate\",\"Application_Receipt_Date\"]].apply(calculate_age,axis=1)\n",
    "data[\"Manager_Age\"] = data[[\"Manager_DoB\",\"Application_Receipt_Date\"]].apply(calculate_age,axis=1)\n",
    "data[\"Manager_Exp\"] = data[[\"Manager_DOJ\",\"Application_Receipt_Date\"]].apply(calculate_age,axis=1)"
   ]
  },
  {
   "cell_type": "code",
   "execution_count": 24,
   "metadata": {
    "collapsed": false
   },
   "outputs": [
    {
     "data": {
      "text/plain": [
       "<matplotlib.axes._subplots.AxesSubplot at 0x7fe77dbeb518>"
      ]
     },
     "execution_count": 24,
     "metadata": {},
     "output_type": "execute_result"
    },
    {
     "data": {
      "image/png": "[encoded data removed]",
      "text/plain": [
       "<matplotlib.figure.Figure at 0x7fe77dc1ac88>"
      ]
     },
     "metadata": {},
     "output_type": "display_data"
    }
   ],
   "source": [
    "sns.distplot(data[\"Applicant_Age\"].dropna())"
   ]
  },
  {
   "cell_type": "code",
   "execution_count": 25,
   "metadata": {
    "collapsed": false
   },
   "outputs": [
    {
     "data": {
      "text/plain": [
       "<matplotlib.axes._subplots.AxesSubplot at 0x7fe77d71fa90>"
      ]
     },
     "execution_count": 25,
     "metadata": {},
     "output_type": "execute_result"
    },
    {
     "data": {
      "image/png": "[encoded data removed]",
      "text/plain": [
       "<matplotlib.figure.Figure at 0x7fe77d63e748>"
      ]
     },
     "metadata": {},
     "output_type": "display_data"
    }
   ],
   "source": [
    "sns.distplot(data[\"Manager_Age\"].dropna())"
   ]
  },
  {
   "cell_type": "code",
   "execution_count": 26,
   "metadata": {
    "collapsed": false
   },
   "outputs": [
    {
     "data": {
      "text/plain": [
       "<matplotlib.axes._subplots.AxesSubplot at 0x7fe77d5c8ef0>"
      ]
     },
     "execution_count": 26,
     "metadata": {},
     "output_type": "execute_result"
    },
    {
     "data": {
      "image/png": "[encoded data removed]",
      "text/plain": [
       "<matplotlib.figure.Figure at 0x7fe77d6ea940>"
      ]
     },
     "metadata": {},
     "output_type": "display_data"
    }
   ],
   "source": [
    "sns.distplot(data[\"Manager_Exp\"].dropna())"
   ]
  },
  {
   "cell_type": "markdown",
   "metadata": {},
   "source": [
    "### designation"
   ]
  },
  {
   "cell_type": "code",
   "execution_count": 27,
   "metadata": {
    "collapsed": false
   },
   "outputs": [
    {
     "data": {
      "text/plain": [
       "Level 1    0.486197\n",
       "Level 2    0.292537\n",
       "Level 3    0.120290\n",
       "Level 4    0.020993\n",
       "Other      0.006088\n",
       "Level 6    0.001889\n",
       "Level 7    0.000210\n",
       "Level 5    0.000105\n",
       "Name: Manager_Joining_Designation, dtype: float64"
      ]
     },
     "execution_count": 27,
     "metadata": {},
     "output_type": "execute_result"
    }
   ],
   "source": [
    "train[\"Manager_Joining_Designation\"].value_counts()/train.shape[0]"
   ]
  },
  {
   "cell_type": "code",
   "execution_count": 28,
   "metadata": {
    "collapsed": false
   },
   "outputs": [
    {
     "data": {
      "text/plain": [
       "Level 2    0.336727\n",
       "Level 1    0.260208\n",
       "Level 3    0.213394\n",
       "Level 4    0.108219\n",
       "Level 5    0.009762\n",
       "Name: Manager_Current_Designation, dtype: float64"
      ]
     },
     "execution_count": 28,
     "metadata": {},
     "output_type": "execute_result"
    }
   ],
   "source": [
    "train[\"Manager_Current_Designation\"].value_counts()/train.shape[0]"
   ]
  },
  {
   "cell_type": "code",
   "execution_count": 29,
   "metadata": {
    "collapsed": false
   },
   "outputs": [
    {
     "data": {
      "text/plain": [
       "Level 2    1441\n",
       "Level 3    1337\n",
       "Level 1    1217\n",
       "Level 4     208\n",
       "Level 5      15\n",
       "Level 6       3\n",
       "Name: Manager_Joining_Designation, dtype: int64"
      ]
     },
     "execution_count": 29,
     "metadata": {},
     "output_type": "execute_result"
    }
   ],
   "source": [
    "test[\"Manager_Joining_Designation\"].value_counts()"
   ]
  },
  {
   "cell_type": "code",
   "execution_count": 30,
   "metadata": {
    "collapsed": false
   },
   "outputs": [
    {
     "data": {
      "text/plain": [
       "Level 3    1530\n",
       "Level 2    1440\n",
       "Level 1     887\n",
       "Level 4     334\n",
       "Level 5      30\n",
       "Name: Manager_Current_Designation, dtype: int64"
      ]
     },
     "execution_count": 30,
     "metadata": {},
     "output_type": "execute_result"
    }
   ],
   "source": [
    "test[\"Manager_Current_Designation\"].value_counts()"
   ]
  },
  {
   "cell_type": "markdown",
   "metadata": {},
   "source": [
    "### status of manager"
   ]
  },
  {
   "cell_type": "code",
   "execution_count": 31,
   "metadata": {
    "collapsed": false
   },
   "outputs": [
    {
     "data": {
      "text/plain": [
       "Confirmation    0.553899\n",
       "Probation       0.374410\n",
       "Name: Manager_Status, dtype: float64"
      ]
     },
     "execution_count": 31,
     "metadata": {},
     "output_type": "execute_result"
    }
   ],
   "source": [
    "train[\"Manager_Status\"].value_counts()/train.shape[0]"
   ]
  },
  {
   "cell_type": "code",
   "execution_count": 32,
   "metadata": {
    "collapsed": false
   },
   "outputs": [
    {
     "data": {
      "text/html": [
       "<div>\n",
       "<table border=\"1\" class=\"dataframe\">\n",
       "  <thead>\n",
       "    <tr style=\"text-align: right;\">\n",
       "      <th>Business_Sourced</th>\n",
       "      <th>0</th>\n",
       "      <th>1</th>\n",
       "      <th>All</th>\n",
       "    </tr>\n",
       "    <tr>\n",
       "      <th>Manager_Status</th>\n",
       "      <th></th>\n",
       "      <th></th>\n",
       "      <th></th>\n",
       "    </tr>\n",
       "  </thead>\n",
       "  <tbody>\n",
       "    <tr>\n",
       "      <th>Confirmation</th>\n",
       "      <td>3562</td>\n",
       "      <td>1715</td>\n",
       "      <td>5277</td>\n",
       "    </tr>\n",
       "    <tr>\n",
       "      <th>Probation</th>\n",
       "      <td>2251</td>\n",
       "      <td>1316</td>\n",
       "      <td>3567</td>\n",
       "    </tr>\n",
       "    <tr>\n",
       "      <th>All</th>\n",
       "      <td>6260</td>\n",
       "      <td>3267</td>\n",
       "      <td>9527</td>\n",
       "    </tr>\n",
       "  </tbody>\n",
       "</table>\n",
       "</div>"
      ],
      "text/plain": [
       "Business_Sourced     0     1   All\n",
       "Manager_Status                    \n",
       "Confirmation      3562  1715  5277\n",
       "Probation         2251  1316  3567\n",
       "All               6260  3267  9527"
      ]
     },
     "execution_count": 32,
     "metadata": {},
     "output_type": "execute_result"
    }
   ],
   "source": [
    "pd.crosstab(train[\"Manager_Status\"],train[\"Business_Sourced\"],margins=True)"
   ]
  },
  {
   "cell_type": "markdown",
   "metadata": {},
   "source": [
    "### grade"
   ]
  },
  {
   "cell_type": "code",
   "execution_count": 33,
   "metadata": {
    "collapsed": false
   },
   "outputs": [
    {
     "data": {
      "text/plain": [
       "3.0     0.336622\n",
       "2.0     0.259368\n",
       "4.0     0.213918\n",
       "5.0     0.069907\n",
       "6.0     0.042616\n",
       "7.0     0.002309\n",
       "8.0     0.001470\n",
       "1.0     0.000840\n",
       "9.0     0.000735\n",
       "10.0    0.000525\n",
       "Name: Manager_Grade, dtype: float64"
      ]
     },
     "execution_count": 33,
     "metadata": {},
     "output_type": "execute_result"
    }
   ],
   "source": [
    "train[\"Manager_Grade\"].value_counts()/train.shape[0]"
   ]
  },
  {
   "cell_type": "code",
   "execution_count": 34,
   "metadata": {
    "collapsed": false
   },
   "outputs": [
    {
     "data": {
      "text/html": [
       "<div>\n",
       "<table border=\"1\" class=\"dataframe\">\n",
       "  <thead>\n",
       "    <tr style=\"text-align: right;\">\n",
       "      <th>Business_Sourced</th>\n",
       "      <th>0</th>\n",
       "      <th>1</th>\n",
       "      <th>All</th>\n",
       "    </tr>\n",
       "    <tr>\n",
       "      <th>Manager_Grade</th>\n",
       "      <th></th>\n",
       "      <th></th>\n",
       "      <th></th>\n",
       "    </tr>\n",
       "  </thead>\n",
       "  <tbody>\n",
       "    <tr>\n",
       "      <th>1.0</th>\n",
       "      <td>7</td>\n",
       "      <td>1</td>\n",
       "      <td>8</td>\n",
       "    </tr>\n",
       "    <tr>\n",
       "      <th>2.0</th>\n",
       "      <td>1695</td>\n",
       "      <td>776</td>\n",
       "      <td>2471</td>\n",
       "    </tr>\n",
       "    <tr>\n",
       "      <th>3.0</th>\n",
       "      <td>2110</td>\n",
       "      <td>1097</td>\n",
       "      <td>3207</td>\n",
       "    </tr>\n",
       "    <tr>\n",
       "      <th>4.0</th>\n",
       "      <td>1340</td>\n",
       "      <td>698</td>\n",
       "      <td>2038</td>\n",
       "    </tr>\n",
       "    <tr>\n",
       "      <th>5.0</th>\n",
       "      <td>406</td>\n",
       "      <td>260</td>\n",
       "      <td>666</td>\n",
       "    </tr>\n",
       "    <tr>\n",
       "      <th>6.0</th>\n",
       "      <td>232</td>\n",
       "      <td>174</td>\n",
       "      <td>406</td>\n",
       "    </tr>\n",
       "    <tr>\n",
       "      <th>7.0</th>\n",
       "      <td>11</td>\n",
       "      <td>11</td>\n",
       "      <td>22</td>\n",
       "    </tr>\n",
       "    <tr>\n",
       "      <th>8.0</th>\n",
       "      <td>6</td>\n",
       "      <td>8</td>\n",
       "      <td>14</td>\n",
       "    </tr>\n",
       "    <tr>\n",
       "      <th>9.0</th>\n",
       "      <td>3</td>\n",
       "      <td>4</td>\n",
       "      <td>7</td>\n",
       "    </tr>\n",
       "    <tr>\n",
       "      <th>10.0</th>\n",
       "      <td>3</td>\n",
       "      <td>2</td>\n",
       "      <td>5</td>\n",
       "    </tr>\n",
       "    <tr>\n",
       "      <th>All</th>\n",
       "      <td>6260</td>\n",
       "      <td>3267</td>\n",
       "      <td>9527</td>\n",
       "    </tr>\n",
       "  </tbody>\n",
       "</table>\n",
       "</div>"
      ],
      "text/plain": [
       "Business_Sourced     0     1   All\n",
       "Manager_Grade                     \n",
       "1.0                  7     1     8\n",
       "2.0               1695   776  2471\n",
       "3.0               2110  1097  3207\n",
       "4.0               1340   698  2038\n",
       "5.0                406   260   666\n",
       "6.0                232   174   406\n",
       "7.0                 11    11    22\n",
       "8.0                  6     8    14\n",
       "9.0                  3     4     7\n",
       "10.0                 3     2     5\n",
       "All               6260  3267  9527"
      ]
     },
     "execution_count": 34,
     "metadata": {},
     "output_type": "execute_result"
    }
   ],
   "source": [
    "pd.crosstab(train[\"Manager_Grade\"],train[\"Business_Sourced\"],margins=True)"
   ]
  },
  {
   "cell_type": "markdown",
   "metadata": {},
   "source": [
    "# numerical variables"
   ]
  },
  {
   "cell_type": "code",
   "execution_count": 35,
   "metadata": {
    "collapsed": false
   },
   "outputs": [
    {
     "data": {
      "text/plain": [
       "0.0     2980\n",
       "1.0     1677\n",
       "2.0     1339\n",
       "3.0     1073\n",
       "4.0      710\n",
       "5.0      458\n",
       "6.0      270\n",
       "7.0      132\n",
       "8.0       84\n",
       "9.0       63\n",
       "10.0      27\n",
       "11.0      14\n",
       "16.0       6\n",
       "12.0       5\n",
       "13.0       4\n",
       "14.0       1\n",
       "22.0       1\n",
       "Name: Manager_Num_Application, dtype: int64"
      ]
     },
     "execution_count": 35,
     "metadata": {},
     "output_type": "execute_result"
    }
   ],
   "source": [
    "train[\"Manager_Num_Application\"].value_counts()"
   ]
  },
  {
   "cell_type": "code",
   "execution_count": 36,
   "metadata": {
    "collapsed": false
   },
   "outputs": [
    {
     "data": {
      "text/html": [
       "<div>\n",
       "<table border=\"1\" class=\"dataframe\">\n",
       "  <thead>\n",
       "    <tr style=\"text-align: right;\">\n",
       "      <th>Business_Sourced</th>\n",
       "      <th>0</th>\n",
       "      <th>1</th>\n",
       "      <th>All</th>\n",
       "    </tr>\n",
       "    <tr>\n",
       "      <th>Manager_Num_Application</th>\n",
       "      <th></th>\n",
       "      <th></th>\n",
       "      <th></th>\n",
       "    </tr>\n",
       "  </thead>\n",
       "  <tbody>\n",
       "    <tr>\n",
       "      <th>0.0</th>\n",
       "      <td>1882</td>\n",
       "      <td>1098</td>\n",
       "      <td>2980</td>\n",
       "    </tr>\n",
       "    <tr>\n",
       "      <th>1.0</th>\n",
       "      <td>1141</td>\n",
       "      <td>536</td>\n",
       "      <td>1677</td>\n",
       "    </tr>\n",
       "    <tr>\n",
       "      <th>2.0</th>\n",
       "      <td>874</td>\n",
       "      <td>465</td>\n",
       "      <td>1339</td>\n",
       "    </tr>\n",
       "    <tr>\n",
       "      <th>3.0</th>\n",
       "      <td>701</td>\n",
       "      <td>372</td>\n",
       "      <td>1073</td>\n",
       "    </tr>\n",
       "    <tr>\n",
       "      <th>4.0</th>\n",
       "      <td>490</td>\n",
       "      <td>220</td>\n",
       "      <td>710</td>\n",
       "    </tr>\n",
       "    <tr>\n",
       "      <th>5.0</th>\n",
       "      <td>295</td>\n",
       "      <td>163</td>\n",
       "      <td>458</td>\n",
       "    </tr>\n",
       "    <tr>\n",
       "      <th>6.0</th>\n",
       "      <td>186</td>\n",
       "      <td>84</td>\n",
       "      <td>270</td>\n",
       "    </tr>\n",
       "    <tr>\n",
       "      <th>7.0</th>\n",
       "      <td>97</td>\n",
       "      <td>35</td>\n",
       "      <td>132</td>\n",
       "    </tr>\n",
       "    <tr>\n",
       "      <th>8.0</th>\n",
       "      <td>57</td>\n",
       "      <td>27</td>\n",
       "      <td>84</td>\n",
       "    </tr>\n",
       "    <tr>\n",
       "      <th>9.0</th>\n",
       "      <td>41</td>\n",
       "      <td>22</td>\n",
       "      <td>63</td>\n",
       "    </tr>\n",
       "    <tr>\n",
       "      <th>10.0</th>\n",
       "      <td>23</td>\n",
       "      <td>4</td>\n",
       "      <td>27</td>\n",
       "    </tr>\n",
       "    <tr>\n",
       "      <th>11.0</th>\n",
       "      <td>12</td>\n",
       "      <td>2</td>\n",
       "      <td>14</td>\n",
       "    </tr>\n",
       "    <tr>\n",
       "      <th>12.0</th>\n",
       "      <td>3</td>\n",
       "      <td>2</td>\n",
       "      <td>5</td>\n",
       "    </tr>\n",
       "    <tr>\n",
       "      <th>13.0</th>\n",
       "      <td>4</td>\n",
       "      <td>0</td>\n",
       "      <td>4</td>\n",
       "    </tr>\n",
       "    <tr>\n",
       "      <th>14.0</th>\n",
       "      <td>0</td>\n",
       "      <td>1</td>\n",
       "      <td>1</td>\n",
       "    </tr>\n",
       "    <tr>\n",
       "      <th>16.0</th>\n",
       "      <td>6</td>\n",
       "      <td>0</td>\n",
       "      <td>6</td>\n",
       "    </tr>\n",
       "    <tr>\n",
       "      <th>22.0</th>\n",
       "      <td>1</td>\n",
       "      <td>0</td>\n",
       "      <td>1</td>\n",
       "    </tr>\n",
       "    <tr>\n",
       "      <th>All</th>\n",
       "      <td>6260</td>\n",
       "      <td>3267</td>\n",
       "      <td>9527</td>\n",
       "    </tr>\n",
       "  </tbody>\n",
       "</table>\n",
       "</div>"
      ],
      "text/plain": [
       "Business_Sourced            0     1   All\n",
       "Manager_Num_Application                  \n",
       "0.0                      1882  1098  2980\n",
       "1.0                      1141   536  1677\n",
       "2.0                       874   465  1339\n",
       "3.0                       701   372  1073\n",
       "4.0                       490   220   710\n",
       "5.0                       295   163   458\n",
       "6.0                       186    84   270\n",
       "7.0                        97    35   132\n",
       "8.0                        57    27    84\n",
       "9.0                        41    22    63\n",
       "10.0                       23     4    27\n",
       "11.0                       12     2    14\n",
       "12.0                        3     2     5\n",
       "13.0                        4     0     4\n",
       "14.0                        0     1     1\n",
       "16.0                        6     0     6\n",
       "22.0                        1     0     1\n",
       "All                      6260  3267  9527"
      ]
     },
     "execution_count": 36,
     "metadata": {},
     "output_type": "execute_result"
    }
   ],
   "source": [
    "pd.crosstab(train[\"Manager_Num_Application\"],train[\"Business_Sourced\"],margins=True)"
   ]
  },
  {
   "cell_type": "code",
   "execution_count": 37,
   "metadata": {
    "collapsed": false
   },
   "outputs": [
    {
     "data": {
      "text/plain": [
       "0.0    5283\n",
       "1.0    1799\n",
       "2.0     936\n",
       "3.0     471\n",
       "4.0     225\n",
       "5.0      83\n",
       "6.0      30\n",
       "7.0       7\n",
       "8.0       6\n",
       "9.0       4\n",
       "Name: Manager_Num_Coded, dtype: int64"
      ]
     },
     "execution_count": 37,
     "metadata": {},
     "output_type": "execute_result"
    }
   ],
   "source": [
    "train[\"Manager_Num_Coded\"].value_counts()"
   ]
  },
  {
   "cell_type": "code",
   "execution_count": 96,
   "metadata": {
    "collapsed": false
   },
   "outputs": [
    {
     "data": {
      "text/plain": [
       "Series([], Name: Manager_Business, dtype: float64)"
      ]
     },
     "execution_count": 96,
     "metadata": {},
     "output_type": "execute_result"
    }
   ],
   "source": [
    "data.loc[data[\"Manager_Business\"]<0,\"Manager_Business\"]"
   ]
  },
  {
   "cell_type": "markdown",
   "metadata": {},
   "source": [
    "# missing values"
   ]
  },
  {
   "cell_type": "markdown",
   "metadata": {},
   "source": [
    "1. manager values for only 8844 entries are available rest are missing whereas the applicant data is available\n",
    "\n",
    "2. application city pin as well as office pin have different numbers for business outsourced values of 0 and 1 and therefore label_encoded. But because so many values in application city have single entry, we'll be ignoring it. There are however some office pins in train not in test which might create problems therefore both teh pins will be ignored for now.\n",
    "\n",
    "3. Gender is clearly a factor.\n",
    "\n",
    "4. put marital status for missing values based on the mean of the ages for that status\n",
    "\n",
    "5. missing values for occupation are big in number and therefore put as separate entry called missing\n",
    "\n",
    "6. for qualification, keep Mba, class 10 and 12 and graduate and put rest in others. Also, indices are different for test and train which needs to be considered\n",
    "\n",
    "7. for designation,anything above and including 5 should be labelled high. For now, label missing value as missing.\n",
    "\n",
    "8. for status assign missing values as missing\n",
    "\n",
    "9. for grades, make all above 7=7 and below 2=2\n",
    "\n",
    "10. choosing receipt date as the base value, age of the applicant and the manager is calculated.\n",
    "\n",
    "11. for number of applications greater than 11, combine all\n",
    "\n",
    "12. combine greater than 6 for number of agents recruited\n",
    "\n",
    "13. normalise the manager business and products sold and convert negative values to 0"
   ]
  },
  {
   "cell_type": "code",
   "execution_count": 378,
   "metadata": {
    "collapsed": true
   },
   "outputs": [],
   "source": [
    "train[\"Train\"] = True\n",
    "test[\"Train\"] = False\n",
    "data = pd.concat([train,test])\n",
    "from datetime import date\n",
    "from datetime import datetime\n",
    "def calculate_age(date):\n",
    "    born,today = date\n",
    "    if born != born:\n",
    "        return np.nan\n",
    "    born = datetime.strptime(born,\"%m/%d/%Y\")\n",
    "    today = datetime.strptime(today,\"%m/%d/%Y\")\n",
    "    return today.year - born.year - ((today.month, today.day) < (born.month, born.day))\n",
    "data[\"Applicant_Age\"] = data[[\"Applicant_BirthDate\",\"Application_Receipt_Date\"]].apply(calculate_age,axis=1)\n",
    "data[\"Manager_Age\"] = data[[\"Manager_DoB\",\"Application_Receipt_Date\"]].apply(calculate_age,axis=1)\n",
    "data[\"Manager_Exp\"] = data[[\"Manager_DOJ\",\"Application_Receipt_Date\"]].apply(calculate_age,axis=1)"
   ]
  },
  {
   "cell_type": "code",
   "execution_count": 379,
   "metadata": {
    "collapsed": false
   },
   "outputs": [
    {
     "data": {
      "text/plain": [
       "Applicant_BirthDate              96\n",
       "Applicant_City_PIN              131\n",
       "Applicant_Gender                 89\n",
       "Applicant_Marital_Status        103\n",
       "Applicant_Occupation           2225\n",
       "Applicant_Qualification         130\n",
       "Application_Receipt_Date          0\n",
       "Business_Sourced               5045\n",
       "ID                                0\n",
       "Manager_Business               1507\n",
       "Manager_Business2              1507\n",
       "Manager_Current_Designation    1507\n",
       "Manager_DOJ                    1507\n",
       "Manager_DoB                    1507\n",
       "Manager_Gender                 1507\n",
       "Manager_Grade                  1507\n",
       "Manager_Joining_Designation    1507\n",
       "Manager_Num_Application        1507\n",
       "Manager_Num_Coded              1507\n",
       "Manager_Num_Products           1507\n",
       "Manager_Num_Products2          1507\n",
       "Manager_Status                 1507\n",
       "Office_PIN                        0\n",
       "Train                             0\n",
       "Applicant_Age                    96\n",
       "Manager_Age                    1507\n",
       "Manager_Exp                    1507\n",
       "dtype: int64"
      ]
     },
     "execution_count": 379,
     "metadata": {},
     "output_type": "execute_result"
    }
   ],
   "source": [
    "data.apply(lambda x: sum(x.isnull()))"
   ]
  },
  {
   "cell_type": "code",
   "execution_count": 380,
   "metadata": {
    "collapsed": false
   },
   "outputs": [
    {
     "data": {
      "text/plain": [
       "0.0    67\n",
       "Name: Business_Sourced, dtype: int64"
      ]
     },
     "execution_count": 380,
     "metadata": {},
     "output_type": "execute_result"
    }
   ],
   "source": [
    "data.loc[pd.isnull(data[\"Applicant_Gender\"]),\"Business_Sourced\"].value_counts()"
   ]
  },
  {
   "cell_type": "code",
   "execution_count": 381,
   "metadata": {
    "collapsed": false
   },
   "outputs": [
    {
     "data": {
      "text/plain": [
       "0.0    447\n",
       "1.0    236\n",
       "Name: Business_Sourced, dtype: int64"
      ]
     },
     "execution_count": 381,
     "metadata": {},
     "output_type": "execute_result"
    }
   ],
   "source": [
    "data.loc[pd.isnull(data[\"Manager_Status\"]),\"Business_Sourced\"].value_counts()"
   ]
  },
  {
   "cell_type": "code",
   "execution_count": 382,
   "metadata": {
    "collapsed": false
   },
   "outputs": [],
   "source": [
    "missing = [\"Manager_Status\",\"Applicant_Occupation\",\"Manager_Current_Designation\",\"Manager_Joining_Designation\",\"Applicant_Gender\",\"Manager_Gender\"]\n",
    "for i in missing:\n",
    "    data[i].fillna(\"missing\",inplace=True)"
   ]
  },
  {
   "cell_type": "code",
   "execution_count": 383,
   "metadata": {
    "collapsed": false
   },
   "outputs": [],
   "source": [
    "avg = [\"Manager_Business\",\"Manager_Business2\",\"Manager_Num_Products\",\"Manager_Num_Products2\"]\n",
    "for i in avg:\n",
    "    data[i].fillna(np.mean(data[i].dropna()),inplace=True)"
   ]
  },
  {
   "cell_type": "code",
   "execution_count": 384,
   "metadata": {
    "collapsed": true
   },
   "outputs": [],
   "source": [
    "data[\"Applicant_Qualification\"] = data[\"Applicant_Qualification\"].apply(lambda x: x if x in [\"Class XII\",\"Graduate\",\"Class X\",\"Masters of Business Administration\"] else \"Others\")"
   ]
  },
  {
   "cell_type": "code",
   "execution_count": 385,
   "metadata": {
    "collapsed": false
   },
   "outputs": [],
   "source": [
    "whole = [\"Applicant_Age\",\"Manager_Age\",\"Manager_Exp\",\"Manager_Grade\",\"Manager_Num_Application\",\"Manager_Num_Coded\"]\n",
    "from scipy.stats import mode\n",
    "for var in whole:\n",
    "    data[var].fillna(mode(data[var].dropna()).mode[0],inplace=True)"
   ]
  },
  {
   "cell_type": "code",
   "execution_count": 386,
   "metadata": {
    "collapsed": false
   },
   "outputs": [
    {
     "data": {
      "text/plain": [
       "<seaborn.axisgrid.FacetGrid at 0x7fe7713bb2b0>"
      ]
     },
     "execution_count": 386,
     "metadata": {},
     "output_type": "execute_result"
    },
    {
     "data": {
      "image/png": "[encoded data removed]",
      "text/plain": [
       "<matplotlib.figure.Figure at 0x7fe7713bb780>"
      ]
     },
     "metadata": {},
     "output_type": "display_data"
    }
   ],
   "source": [
    "sns.factorplot(data=data,x=\"Applicant_Age\",kind=\"count\",hue=\"Applicant_Marital_Status\")"
   ]
  },
  {
   "cell_type": "code",
   "execution_count": 387,
   "metadata": {
    "collapsed": false
   },
   "outputs": [
    {
     "data": {
      "text/plain": [
       "Applicant_Marital_Status\n",
       "D    38.636364\n",
       "M    35.355153\n",
       "S    25.493771\n",
       "W    41.555556\n",
       "Name: Applicant_Age, dtype: float64"
      ]
     },
     "execution_count": 387,
     "metadata": {},
     "output_type": "execute_result"
    }
   ],
   "source": [
    "data.groupby([\"Applicant_Marital_Status\"]).mean()[\"Applicant_Age\"]"
   ]
  },
  {
   "cell_type": "code",
   "execution_count": 388,
   "metadata": {
    "collapsed": true
   },
   "outputs": [],
   "source": [
    "data[\"Applicant_Marital_Status\"] = data[\"Applicant_Marital_Status\"].apply(lambda x: \"Other\" if (x in [\"W\",\"D\"]) | (x!=x) else x)"
   ]
  },
  {
   "cell_type": "code",
   "execution_count": 389,
   "metadata": {
    "collapsed": false
   },
   "outputs": [
    {
     "data": {
      "text/plain": [
       "'def mar(p):\\n    age,sta = p\\n    if sta==sta:\\n        return sta\\n    if age<35:\\n        return \"S\"\\n    else:\\n        return \"M\"    \\n\\ndata[\"Applicant_Marital_Status\"] = data[\"Applicant_Marital_Status\"].apply(lambda x: \"Other\" if x in [\"W\",\"D\"] else x)\\ndata[\"Applicant_Marital_Status\"] = data[[\"Applicant_Age\",\"Applicant_Marital_Status\"]].apply(mar,axis=1) '"
      ]
     },
     "execution_count": 389,
     "metadata": {},
     "output_type": "execute_result"
    }
   ],
   "source": [
    "'''def mar(p):\n",
    "    age,sta = p\n",
    "    if sta==sta:\n",
    "        return sta\n",
    "    if age<35:\n",
    "        return \"S\"\n",
    "    else:\n",
    "        return \"M\"    \n",
    "\n",
    "data[\"Applicant_Marital_Status\"] = data[\"Applicant_Marital_Status\"].apply(lambda x: \"Other\" if x in [\"W\",\"D\"] else x)\n",
    "data[\"Applicant_Marital_Status\"] = data[[\"Applicant_Age\",\"Applicant_Marital_Status\"]].apply(mar,axis=1) '''"
   ]
  },
  {
   "cell_type": "code",
   "execution_count": 390,
   "metadata": {
    "collapsed": true
   },
   "outputs": [],
   "source": [
    "data[\"Manager_Current_Designation\"] = data[\"Manager_Current_Designation\"].apply(lambda x: \"Level 5\" if x in [\"Level 5\",\"Level 6\",\"Level 7\"] else x)"
   ]
  },
  {
   "cell_type": "code",
   "execution_count": 391,
   "metadata": {
    "collapsed": true
   },
   "outputs": [],
   "source": [
    "data[\"Manager_Joining_Designation\"] = data[\"Manager_Joining_Designation\"].apply(lambda x: \"Level 5\" if x in [\"Level 5\",\"Level 6\",\"Level 7\"] else x)"
   ]
  },
  {
   "cell_type": "code",
   "execution_count": 392,
   "metadata": {
    "collapsed": false
   },
   "outputs": [],
   "source": [
    "data.loc[data[\"Manager_Business\"]<0,\"Manager_Business\"]=0\n",
    "data.loc[data[\"Manager_Business2\"]<0,\"Manager_Business2\"]=0"
   ]
  },
  {
   "cell_type": "code",
   "execution_count": 393,
   "metadata": {
    "collapsed": false
   },
   "outputs": [],
   "source": [
    "def conv_grade(para):\n",
    "    if para<=2.0:\n",
    "        return 2.0\n",
    "    elif para>=7.0:\n",
    "        return 7.0\n",
    "    else:\n",
    "        return para\n",
    "data[\"Manager_Grade\"] = data[\"Manager_Grade\"].apply(conv_grade )"
   ]
  },
  {
   "cell_type": "code",
   "execution_count": 394,
   "metadata": {
    "collapsed": false
   },
   "outputs": [],
   "source": [
    "data[\"Manager_Num_Application\"] = data[\"Manager_Num_Application\"].apply(lambda x: 11.0 if x>11.0 else x )\n",
    "data[\"Manager_Num_Coded\"] = data[\"Manager_Num_Coded\"] .apply(lambda x:6.0 if x>6.0 else x)"
   ]
  },
  {
   "cell_type": "code",
   "execution_count": 267,
   "metadata": {
    "collapsed": false
   },
   "outputs": [
    {
     "data": {
      "text/plain": [
       "Applicant_BirthDate              96\n",
       "Applicant_City_PIN              131\n",
       "Applicant_Gender                  0\n",
       "Applicant_Marital_Status          0\n",
       "Applicant_Occupation              0\n",
       "Applicant_Qualification           0\n",
       "Application_Receipt_Date          0\n",
       "Business_Sourced               5045\n",
       "ID                                0\n",
       "Manager_Business                  0\n",
       "Manager_Business2                 0\n",
       "Manager_Current_Designation       0\n",
       "Manager_DOJ                    1507\n",
       "Manager_DoB                    1507\n",
       "Manager_Gender                    0\n",
       "Manager_Grade                     0\n",
       "Manager_Joining_Designation       0\n",
       "Manager_Num_Application           0\n",
       "Manager_Num_Coded                 0\n",
       "Manager_Num_Products              0\n",
       "Manager_Num_Products2             0\n",
       "Manager_Status                    0\n",
       "Office_PIN                        0\n",
       "Train                             0\n",
       "Applicant_Age                     0\n",
       "Manager_Age                       0\n",
       "Manager_Exp                       0\n",
       "dtype: int64"
      ]
     },
     "execution_count": 267,
     "metadata": {},
     "output_type": "execute_result"
    }
   ],
   "source": [
    "data.apply(lambda x: sum(x.isnull()))"
   ]
  },
  {
   "cell_type": "markdown",
   "metadata": {},
   "source": [
    "# normalisation or standardisation"
   ]
  },
  {
   "cell_type": "code",
   "execution_count": 395,
   "metadata": {
    "collapsed": true
   },
   "outputs": [],
   "source": [
    "#no = standardise\n",
    "#std= normalise"
   ]
  },
  {
   "cell_type": "code",
   "execution_count": 396,
   "metadata": {
    "collapsed": true
   },
   "outputs": [],
   "source": [
    "no = data.loc[data[\"Train\"]==True,[\"Manager_Business\",\"Manager_Business2\",\"Manager_Num_Products\",\"Manager_Num_Products2\"]]\n",
    "scaler = preprocessing.StandardScaler().fit(no)\n",
    "no = scaler.transform(no)"
   ]
  },
  {
   "cell_type": "code",
   "execution_count": 397,
   "metadata": {
    "collapsed": false
   },
   "outputs": [],
   "source": [
    "no_train = DataFrame(no,columns = [\"B1\",\"B2\",\"N1\",\"N2\"])"
   ]
  },
  {
   "cell_type": "code",
   "execution_count": 398,
   "metadata": {
    "collapsed": false
   },
   "outputs": [],
   "source": [
    "no_test = DataFrame(scaler.transform(data.loc[data[\"Train\"]==False,[\"Manager_Business\",\"Manager_Business2\",\"Manager_Num_Products\",\"Manager_Num_Products2\"]]),columns=[\"B1\",\"B2\",\"N1\",\"N2\"])"
   ]
  },
  {
   "cell_type": "markdown",
   "metadata": {},
   "source": [
    "# model building"
   ]
  },
  {
   "cell_type": "code",
   "execution_count": 61,
   "metadata": {
    "collapsed": false
   },
   "outputs": [
    {
     "name": "stdout",
     "output_type": "stream",
     "text": [
      "<class 'pandas.core.frame.DataFrame'>\n",
      "Int64Index: 14572 entries, 0 to 5044\n",
      "Data columns (total 27 columns):\n",
      "Applicant_BirthDate            14476 non-null object\n",
      "Applicant_City_PIN             14441 non-null float64\n",
      "Applicant_Gender               14572 non-null object\n",
      "Applicant_Marital_Status       14572 non-null object\n",
      "Applicant_Occupation           14572 non-null object\n",
      "Applicant_Qualification        14572 non-null object\n",
      "Application_Receipt_Date       14572 non-null object\n",
      "Business_Sourced               9527 non-null float64\n",
      "ID                             14572 non-null object\n",
      "Manager_Business               14572 non-null float64\n",
      "Manager_Business2              14572 non-null float64\n",
      "Manager_Current_Designation    14572 non-null object\n",
      "Manager_DOJ                    13065 non-null object\n",
      "Manager_DoB                    13065 non-null object\n",
      "Manager_Gender                 14572 non-null object\n",
      "Manager_Grade                  14572 non-null float64\n",
      "Manager_Joining_Designation    14572 non-null object\n",
      "Manager_Num_Application        14572 non-null float64\n",
      "Manager_Num_Coded              14572 non-null float64\n",
      "Manager_Num_Products           14572 non-null float64\n",
      "Manager_Num_Products2          14572 non-null float64\n",
      "Manager_Status                 14572 non-null object\n",
      "Office_PIN                     14572 non-null int64\n",
      "Train                          14572 non-null bool\n",
      "Applicant_Age                  14572 non-null float64\n",
      "Manager_Age                    14572 non-null float64\n",
      "Manager_Exp                    14572 non-null float64\n",
      "dtypes: bool(1), float64(12), int64(1), object(13)\n",
      "memory usage: 3.0+ MB\n"
     ]
    }
   ],
   "source": [
    "data.info()"
   ]
  },
  {
   "cell_type": "markdown",
   "metadata": {},
   "source": [
    "### label encoding"
   ]
  },
  {
   "cell_type": "code",
   "execution_count": 62,
   "metadata": {
    "collapsed": true
   },
   "outputs": [],
   "source": [
    "'''le = preprocessing.LabelEncoder()\n",
    "labels = [\"Applicant_Gender\",\"Applicant_Marital_Status\",\"Applicant_Occupation\",\"Applicant_Qualification\",\"Manager_Current_Designation\",\"Manager_Joining_Designation\",\"Manager_Status\"]\n",
    "X = data[labels].apply(le.fit_transform,axis=1)\n",
    "'''"
   ]
  },
  {
   "cell_type": "markdown",
   "metadata": {},
   "source": [
    "### dummy variable or OneHot Encoding"
   ]
  },
  {
   "cell_type": "code",
   "execution_count": 516,
   "metadata": {
    "collapsed": false
   },
   "outputs": [],
   "source": [
    "labels = [\"Applicant_Marital_Status\",\"Applicant_Occupation\",\"Applicant_Qualification\",\"Manager_Current_Designation\",\"Manager_Joining_Designation\",\"Manager_Status\"]\n",
    "X = pd.get_dummies(data[labels],drop_first=True)"
   ]
  },
  {
   "cell_type": "code",
   "execution_count": 504,
   "metadata": {
    "collapsed": false
   },
   "outputs": [
    {
     "data": {
      "text/plain": [
       "Index(['Applicant_Marital_Status_M', 'Applicant_Marital_Status_Other',\n",
       "       'Applicant_Marital_Status_S', 'Applicant_Occupation_Business',\n",
       "       'Applicant_Occupation_Others', 'Applicant_Occupation_Salaried',\n",
       "       'Applicant_Occupation_Self Employed', 'Applicant_Occupation_Student',\n",
       "       'Applicant_Occupation_missing', 'Applicant_Qualification_Class X',\n",
       "       'Applicant_Qualification_Class XII', 'Applicant_Qualification_Graduate',\n",
       "       'Applicant_Qualification_Masters of Business Administration',\n",
       "       'Applicant_Qualification_Others', 'Manager_Current_Designation_Level 1',\n",
       "       'Manager_Current_Designation_Level 2',\n",
       "       'Manager_Current_Designation_Level 3',\n",
       "       'Manager_Current_Designation_Level 4',\n",
       "       'Manager_Current_Designation_Level 5',\n",
       "       'Manager_Current_Designation_missing',\n",
       "       'Manager_Joining_Designation_Level 1',\n",
       "       'Manager_Joining_Designation_Level 2',\n",
       "       'Manager_Joining_Designation_Level 3',\n",
       "       'Manager_Joining_Designation_Level 4',\n",
       "       'Manager_Joining_Designation_Level 5',\n",
       "       'Manager_Joining_Designation_Other',\n",
       "       'Manager_Joining_Designation_missing', 'Manager_Status_Confirmation',\n",
       "       'Manager_Status_Probation', 'Manager_Status_missing'],\n",
       "      dtype='object')"
      ]
     },
     "execution_count": 504,
     "metadata": {},
     "output_type": "execute_result"
    }
   ],
   "source": [
    "X.columns"
   ]
  },
  {
   "cell_type": "code",
   "execution_count": 509,
   "metadata": {
    "collapsed": false
   },
   "outputs": [],
   "source": [
    "del X[\"Applicant_Marital_Status_Other\"]\n",
    "del X[\"Applicant_Occupation_Self Employed\"]\n",
    "del X[\"Applicant_Qualification_Masters of Business Administration\"]\n",
    "del X[\"Manager_Current_Designation_Level 5\"]\n",
    "del X[\"Manager_Joining_Designation_Level 5\"]\n",
    "del X[\"Manager_Status_missing\"]"
   ]
  },
  {
   "cell_type": "code",
   "execution_count": 517,
   "metadata": {
    "collapsed": false
   },
   "outputs": [],
   "source": [
    "X = pd.concat([X,data[[\"Applicant_Age\",\"Manager_Exp\",\"Manager_Num_Application\",\"Manager_Num_Coded\"]]],axis=1)"
   ]
  },
  {
   "cell_type": "code",
   "execution_count": 518,
   "metadata": {
    "collapsed": false
   },
   "outputs": [],
   "source": [
    "X_train = pd.concat([X.loc[data[\"Train\"]==True,],no_train],axis=1)\n",
    "X_test = pd.concat([X.loc[data[\"Train\"]==False,],no_test],axis=1)"
   ]
  },
  {
   "cell_type": "code",
   "execution_count": 448,
   "metadata": {
    "collapsed": false
   },
   "outputs": [
    {
     "data": {
      "text/html": [
       "<div>\n",
       "<table border=\"1\" class=\"dataframe\">\n",
       "  <thead>\n",
       "    <tr style=\"text-align: right;\">\n",
       "      <th></th>\n",
       "      <th>Applicant_Marital_Status_Other</th>\n",
       "      <th>Applicant_Marital_Status_S</th>\n",
       "      <th>Applicant_Occupation_Others</th>\n",
       "      <th>Applicant_Occupation_Salaried</th>\n",
       "      <th>Applicant_Occupation_Self Employed</th>\n",
       "      <th>Applicant_Occupation_Student</th>\n",
       "      <th>Applicant_Occupation_missing</th>\n",
       "      <th>Applicant_Qualification_Class XII</th>\n",
       "      <th>Applicant_Qualification_Graduate</th>\n",
       "      <th>Applicant_Qualification_Masters of Business Administration</th>\n",
       "      <th>...</th>\n",
       "      <th>Manager_Status_Probation</th>\n",
       "      <th>Manager_Status_missing</th>\n",
       "      <th>Applicant_Age</th>\n",
       "      <th>Manager_Exp</th>\n",
       "      <th>Manager_Num_Application</th>\n",
       "      <th>Manager_Num_Coded</th>\n",
       "      <th>B1</th>\n",
       "      <th>B2</th>\n",
       "      <th>N1</th>\n",
       "      <th>N2</th>\n",
       "    </tr>\n",
       "  </thead>\n",
       "  <tbody>\n",
       "    <tr>\n",
       "      <th>0</th>\n",
       "      <td>0.0</td>\n",
       "      <td>0.0</td>\n",
       "      <td>1.0</td>\n",
       "      <td>0.0</td>\n",
       "      <td>0.0</td>\n",
       "      <td>0.0</td>\n",
       "      <td>0.0</td>\n",
       "      <td>0.0</td>\n",
       "      <td>1.0</td>\n",
       "      <td>0.0</td>\n",
       "      <td>...</td>\n",
       "      <td>0.0</td>\n",
       "      <td>0.0</td>\n",
       "      <td>35.0</td>\n",
       "      <td>1.0</td>\n",
       "      <td>2.0</td>\n",
       "      <td>1.0</td>\n",
       "      <td>0.576070</td>\n",
       "      <td>0.588702</td>\n",
       "      <td>2.57196</td>\n",
       "      <td>2.580020</td>\n",
       "    </tr>\n",
       "    <tr>\n",
       "      <th>1</th>\n",
       "      <td>0.0</td>\n",
       "      <td>1.0</td>\n",
       "      <td>1.0</td>\n",
       "      <td>0.0</td>\n",
       "      <td>0.0</td>\n",
       "      <td>0.0</td>\n",
       "      <td>0.0</td>\n",
       "      <td>1.0</td>\n",
       "      <td>0.0</td>\n",
       "      <td>0.0</td>\n",
       "      <td>...</td>\n",
       "      <td>0.0</td>\n",
       "      <td>0.0</td>\n",
       "      <td>24.0</td>\n",
       "      <td>1.0</td>\n",
       "      <td>2.0</td>\n",
       "      <td>1.0</td>\n",
       "      <td>0.576070</td>\n",
       "      <td>0.588702</td>\n",
       "      <td>2.57196</td>\n",
       "      <td>2.580020</td>\n",
       "    </tr>\n",
       "    <tr>\n",
       "      <th>2</th>\n",
       "      <td>0.0</td>\n",
       "      <td>0.0</td>\n",
       "      <td>0.0</td>\n",
       "      <td>0.0</td>\n",
       "      <td>0.0</td>\n",
       "      <td>0.0</td>\n",
       "      <td>0.0</td>\n",
       "      <td>1.0</td>\n",
       "      <td>0.0</td>\n",
       "      <td>0.0</td>\n",
       "      <td>...</td>\n",
       "      <td>0.0</td>\n",
       "      <td>0.0</td>\n",
       "      <td>41.0</td>\n",
       "      <td>0.0</td>\n",
       "      <td>0.0</td>\n",
       "      <td>0.0</td>\n",
       "      <td>0.658976</td>\n",
       "      <td>0.672489</td>\n",
       "      <td>2.08028</td>\n",
       "      <td>2.087484</td>\n",
       "    </tr>\n",
       "    <tr>\n",
       "      <th>3</th>\n",
       "      <td>0.0</td>\n",
       "      <td>1.0</td>\n",
       "      <td>0.0</td>\n",
       "      <td>1.0</td>\n",
       "      <td>0.0</td>\n",
       "      <td>0.0</td>\n",
       "      <td>0.0</td>\n",
       "      <td>1.0</td>\n",
       "      <td>0.0</td>\n",
       "      <td>0.0</td>\n",
       "      <td>...</td>\n",
       "      <td>0.0</td>\n",
       "      <td>0.0</td>\n",
       "      <td>19.0</td>\n",
       "      <td>3.0</td>\n",
       "      <td>0.0</td>\n",
       "      <td>0.0</td>\n",
       "      <td>0.512221</td>\n",
       "      <td>0.524174</td>\n",
       "      <td>1.83444</td>\n",
       "      <td>1.841216</td>\n",
       "    </tr>\n",
       "    <tr>\n",
       "      <th>4</th>\n",
       "      <td>0.0</td>\n",
       "      <td>0.0</td>\n",
       "      <td>1.0</td>\n",
       "      <td>0.0</td>\n",
       "      <td>0.0</td>\n",
       "      <td>0.0</td>\n",
       "      <td>0.0</td>\n",
       "      <td>1.0</td>\n",
       "      <td>0.0</td>\n",
       "      <td>0.0</td>\n",
       "      <td>...</td>\n",
       "      <td>0.0</td>\n",
       "      <td>0.0</td>\n",
       "      <td>21.0</td>\n",
       "      <td>0.0</td>\n",
       "      <td>2.0</td>\n",
       "      <td>1.0</td>\n",
       "      <td>0.179791</td>\n",
       "      <td>0.188207</td>\n",
       "      <td>1.21984</td>\n",
       "      <td>1.225546</td>\n",
       "    </tr>\n",
       "  </tbody>\n",
       "</table>\n",
       "<p>5 rows × 32 columns</p>\n",
       "</div>"
      ],
      "text/plain": [
       "   Applicant_Marital_Status_Other  Applicant_Marital_Status_S  \\\n",
       "0                             0.0                         0.0   \n",
       "1                             0.0                         1.0   \n",
       "2                             0.0                         0.0   \n",
       "3                             0.0                         1.0   \n",
       "4                             0.0                         0.0   \n",
       "\n",
       "   Applicant_Occupation_Others  Applicant_Occupation_Salaried  \\\n",
       "0                          1.0                            0.0   \n",
       "1                          1.0                            0.0   \n",
       "2                          0.0                            0.0   \n",
       "3                          0.0                            1.0   \n",
       "4                          1.0                            0.0   \n",
       "\n",
       "   Applicant_Occupation_Self Employed  Applicant_Occupation_Student  \\\n",
       "0                                 0.0                           0.0   \n",
       "1                                 0.0                           0.0   \n",
       "2                                 0.0                           0.0   \n",
       "3                                 0.0                           0.0   \n",
       "4                                 0.0                           0.0   \n",
       "\n",
       "   Applicant_Occupation_missing  Applicant_Qualification_Class XII  \\\n",
       "0                           0.0                                0.0   \n",
       "1                           0.0                                1.0   \n",
       "2                           0.0                                1.0   \n",
       "3                           0.0                                1.0   \n",
       "4                           0.0                                1.0   \n",
       "\n",
       "   Applicant_Qualification_Graduate  \\\n",
       "0                               1.0   \n",
       "1                               0.0   \n",
       "2                               0.0   \n",
       "3                               0.0   \n",
       "4                               0.0   \n",
       "\n",
       "   Applicant_Qualification_Masters of Business Administration    ...     \\\n",
       "0                                                0.0             ...      \n",
       "1                                                0.0             ...      \n",
       "2                                                0.0             ...      \n",
       "3                                                0.0             ...      \n",
       "4                                                0.0             ...      \n",
       "\n",
       "   Manager_Status_Probation  Manager_Status_missing  Applicant_Age  \\\n",
       "0                       0.0                     0.0           35.0   \n",
       "1                       0.0                     0.0           24.0   \n",
       "2                       0.0                     0.0           41.0   \n",
       "3                       0.0                     0.0           19.0   \n",
       "4                       0.0                     0.0           21.0   \n",
       "\n",
       "   Manager_Exp  Manager_Num_Application  Manager_Num_Coded        B1  \\\n",
       "0          1.0                      2.0                1.0  0.576070   \n",
       "1          1.0                      2.0                1.0  0.576070   \n",
       "2          0.0                      0.0                0.0  0.658976   \n",
       "3          3.0                      0.0                0.0  0.512221   \n",
       "4          0.0                      2.0                1.0  0.179791   \n",
       "\n",
       "         B2       N1        N2  \n",
       "0  0.588702  2.57196  2.580020  \n",
       "1  0.588702  2.57196  2.580020  \n",
       "2  0.672489  2.08028  2.087484  \n",
       "3  0.524174  1.83444  1.841216  \n",
       "4  0.188207  1.21984  1.225546  \n",
       "\n",
       "[5 rows x 32 columns]"
      ]
     },
     "execution_count": 448,
     "metadata": {},
     "output_type": "execute_result"
    }
   ],
   "source": [
    "X_train.head()"
   ]
  },
  {
   "cell_type": "code",
   "execution_count": 519,
   "metadata": {
    "collapsed": true
   },
   "outputs": [],
   "source": [
    "Y_train = data.loc[data[\"Train\"]==True,\"Business_Sourced\"]"
   ]
  },
  {
   "cell_type": "markdown",
   "metadata": {},
   "source": [
    "## result\n",
    "\n",
    "1. logistic regression gave score of .50 with label encoding\n",
    "2. gave score of .51 with dummy variables.\n",
    "3. with only applicant data, score reduces to .50\n",
    "4. with the normalising number of products, score is .514\n",
    "5. removing manager age improves to .5146\n",
    "6. adaboost gave score of 0.525674412303 with 1000 estimators."
   ]
  },
  {
   "cell_type": "markdown",
   "metadata": {},
   "source": [
    "## logistic regression"
   ]
  },
  {
   "cell_type": "code",
   "execution_count": 450,
   "metadata": {
    "collapsed": true
   },
   "outputs": [],
   "source": [
    "from sklearn.linear_model import LogisticRegression\n",
    "lr = LogisticRegression()"
   ]
  },
  {
   "cell_type": "code",
   "execution_count": 453,
   "metadata": {
    "collapsed": false
   },
   "outputs": [
    {
     "data": {
      "text/plain": [
       "LogisticRegression(C=1.0, class_weight=None, dual=False, fit_intercept=True,\n",
       "          intercept_scaling=1, max_iter=100, multi_class='ovr', n_jobs=1,\n",
       "          penalty='l2', random_state=None, solver='liblinear', tol=0.0001,\n",
       "          verbose=0, warm_start=False)"
      ]
     },
     "execution_count": 453,
     "metadata": {},
     "output_type": "execute_result"
    }
   ],
   "source": [
    "lr.fit(X_train,Y_train)"
   ]
  },
  {
   "cell_type": "code",
   "execution_count": 454,
   "metadata": {
    "collapsed": false
   },
   "outputs": [],
   "source": [
    "Y_test = Series(lr.predict(X_test),name=\"Business_Sourced\")"
   ]
  },
  {
   "cell_type": "code",
   "execution_count": 455,
   "metadata": {
    "collapsed": false
   },
   "outputs": [],
   "source": [
    "out1 = pd.concat([data.loc[data[\"Train\"]==False,\"ID\"],Y_test],axis=1)"
   ]
  },
  {
   "cell_type": "code",
   "execution_count": 456,
   "metadata": {
    "collapsed": false
   },
   "outputs": [],
   "source": [
    "out1.to_csv(\"log_reg.csv\")"
   ]
  },
  {
   "cell_type": "code",
   "execution_count": 417,
   "metadata": {
    "collapsed": false
   },
   "outputs": [
    {
     "data": {
      "text/plain": [
       "Applicant_Marital_Status_Other                               -1.615468\n",
       "Applicant_Marital_Status_S                                    0.089179\n",
       "Applicant_Occupation_Others                                   0.107606\n",
       "Applicant_Occupation_Salaried                                 0.037219\n",
       "Applicant_Occupation_Self Employed                           -3.121359\n",
       "Applicant_Occupation_Student                                  0.681281\n",
       "Applicant_Occupation_missing                                 -0.227806\n",
       "Applicant_Qualification_Class XII                             0.066535\n",
       "Applicant_Qualification_Graduate                              0.243459\n",
       "Applicant_Qualification_Masters of Business Administration    0.154901\n",
       "Applicant_Qualification_Others                                0.186284\n",
       "Manager_Current_Designation_Level 2                           0.183771\n",
       "Manager_Current_Designation_Level 3                           0.042192\n",
       "Manager_Current_Designation_Level 4                           0.257132\n",
       "Manager_Current_Designation_Level 5                          -0.348529\n",
       "Manager_Current_Designation_missing                           0.098150\n",
       "Manager_Joining_Designation_Level 2                          -0.115955\n",
       "Manager_Joining_Designation_Level 3                           0.009265\n",
       "Manager_Joining_Designation_Level 4                           0.382083\n",
       "Manager_Joining_Designation_Level 5                           1.082206\n",
       "Manager_Joining_Designation_Other                            -0.480757\n",
       "Manager_Joining_Designation_missing                           0.098150\n",
       "Manager_Status_Probation                                      0.436000\n",
       "Manager_Status_missing                                        0.098150\n",
       "Applicant_Age                                                 0.014383\n",
       "Manager_Exp                                                   0.063168\n",
       "Manager_Num_Application                                      -0.069591\n",
       "Manager_Num_Coded                                             0.101884\n",
       "B1                                                           -0.039910\n",
       "B2                                                            0.185016\n",
       "N1                                                            0.364977\n",
       "N2                                                           -0.436545\n",
       "dtype: float64"
      ]
     },
     "execution_count": 417,
     "metadata": {},
     "output_type": "execute_result"
    }
   ],
   "source": [
    "Series(lr.coef_[0],index=X_train.columns)"
   ]
  },
  {
   "cell_type": "markdown",
   "metadata": {},
   "source": [
    "## wuth only applicant"
   ]
  },
  {
   "cell_type": "code",
   "execution_count": 271,
   "metadata": {
    "collapsed": true
   },
   "outputs": [],
   "source": [
    "'''labels = [\"Applicant_Gender\",\"Applicant_Marital_Status\",\"Applicant_Occupation\",\"Applicant_Qualification\"]\n",
    "X = pd.get_dummies(data[labels],drop_first=True)\n",
    "X = pd.concat([X,data[\"Applicant_Age\"]],axis=1)\n",
    "X_train = X.loc[data[\"Train\"]==True,]\n",
    "X_test = X.loc[data[\"Train\"]==False,]'''"
   ]
  },
  {
   "cell_type": "code",
   "execution_count": 336,
   "metadata": {
    "collapsed": false
   },
   "outputs": [],
   "source": [
    "X_m=pd.get_dummies(data[\"Applicant_Marital_Status\"],drop_first=True)"
   ]
  },
  {
   "cell_type": "code",
   "execution_count": 337,
   "metadata": {
    "collapsed": false
   },
   "outputs": [
    {
     "data": {
      "text/plain": [
       "LogisticRegression(C=1.0, class_weight=None, dual=False, fit_intercept=True,\n",
       "          intercept_scaling=1, max_iter=100, multi_class='ovr', n_jobs=1,\n",
       "          penalty='l2', random_state=None, solver='liblinear', tol=0.0001,\n",
       "          verbose=0, warm_start=False)"
      ]
     },
     "execution_count": 337,
     "metadata": {},
     "output_type": "execute_result"
    }
   ],
   "source": [
    "lr.fit(X_m.loc[data[\"Train\"]==True,],Y_train)"
   ]
  },
  {
   "cell_type": "code",
   "execution_count": 338,
   "metadata": {
    "collapsed": false
   },
   "outputs": [],
   "source": [
    "Y_test = Series(lr.predict(X_m.loc[data[\"Train\"]==False,]),name=\"Business_Sourced\")\n",
    "out1 = pd.concat([data.loc[data[\"Train\"]==False,\"ID\"],Y_test],axis=1)\n",
    "out1.to_csv(\"log_reg.csv\")"
   ]
  },
  {
   "cell_type": "markdown",
   "metadata": {},
   "source": [
    "## random forest"
   ]
  },
  {
   "cell_type": "code",
   "execution_count": 457,
   "metadata": {
    "collapsed": true
   },
   "outputs": [],
   "source": [
    "from sklearn.ensemble import RandomForestClassifier\n",
    "from sklearn.metrics import roc_auc_score"
   ]
  },
  {
   "cell_type": "code",
   "execution_count": 469,
   "metadata": {
    "collapsed": false
   },
   "outputs": [],
   "source": [
    "rf = RandomForestClassifier(n_estimators = 100 , oob_score = True, random_state = 42)"
   ]
  },
  {
   "cell_type": "code",
   "execution_count": 470,
   "metadata": {
    "collapsed": false
   },
   "outputs": [
    {
     "data": {
      "text/plain": [
       "RandomForestClassifier(bootstrap=True, class_weight=None, criterion='gini',\n",
       "            max_depth=None, max_features='auto', max_leaf_nodes=None,\n",
       "            min_samples_leaf=1, min_samples_split=2,\n",
       "            min_weight_fraction_leaf=0.0, n_estimators=100, n_jobs=1,\n",
       "            oob_score=True, random_state=42, verbose=0, warm_start=False)"
      ]
     },
     "execution_count": 470,
     "metadata": {},
     "output_type": "execute_result"
    }
   ],
   "source": [
    "rf.fit(X_train,Y_train)"
   ]
  },
  {
   "cell_type": "code",
   "execution_count": 466,
   "metadata": {
    "collapsed": false
   },
   "outputs": [
    {
     "data": {
      "text/plain": [
       "0.62475070851264825"
      ]
     },
     "execution_count": 466,
     "metadata": {},
     "output_type": "execute_result"
    }
   ],
   "source": [
    "rf.oob_score_"
   ]
  },
  {
   "cell_type": "code",
   "execution_count": 483,
   "metadata": {
    "collapsed": false
   },
   "outputs": [
    {
     "name": "stdout",
     "output_type": "stream",
     "text": [
      "0.65970399916\n"
     ]
    }
   ],
   "source": [
    "rf = RandomForestClassifier(n_estimators = 1000, oob_score = True, n_jobs = -1,random_state =60,max_features = \"auto\", min_samples_leaf = 5)\n",
    "rf.fit(X_train,Y_train)\n",
    "print(rf.oob_score_)"
   ]
  },
  {
   "cell_type": "code",
   "execution_count": 484,
   "metadata": {
    "collapsed": true
   },
   "outputs": [],
   "source": [
    "Y_test = Series(rf.predict(X_test),name=\"Business_Sourced\")"
   ]
  },
  {
   "cell_type": "code",
   "execution_count": 485,
   "metadata": {
    "collapsed": true
   },
   "outputs": [],
   "source": [
    "out2 = pd.concat([data.loc[data[\"Train\"]==False,\"ID\"],Y_test],axis=1)"
   ]
  },
  {
   "cell_type": "code",
   "execution_count": 486,
   "metadata": {
    "collapsed": true
   },
   "outputs": [],
   "source": [
    "out2.to_csv(\"rf.csv\")"
   ]
  },
  {
   "cell_type": "markdown",
   "metadata": {
    "collapsed": true
   },
   "source": [
    "## adaboosting"
   ]
  },
  {
   "cell_type": "code",
   "execution_count": 492,
   "metadata": {
    "collapsed": false
   },
   "outputs": [
    {
     "data": {
      "text/plain": [
       "AdaBoostClassifier(algorithm='SAMME.R',\n",
       "          base_estimator=DecisionTreeClassifier(class_weight=None, criterion='gini', max_depth=None,\n",
       "            max_features=None, max_leaf_nodes=None, min_samples_leaf=1,\n",
       "            min_samples_split=2, min_weight_fraction_leaf=0.0,\n",
       "            presort=False, random_state=None, splitter='best'),\n",
       "          learning_rate=1, n_estimators=1000, random_state=None)"
      ]
     },
     "execution_count": 492,
     "metadata": {},
     "output_type": "execute_result"
    }
   ],
   "source": [
    "from sklearn.ensemble import AdaBoostClassifier\n",
    "from sklearn.tree import DecisionTreeClassifier\n",
    "\n",
    "dt = DecisionTreeClassifier()\n",
    "clf = AdaBoostClassifier(n_estimators=1000, base_estimator=dt,learning_rate=1)\n",
    "clf.fit(X_train,Y_train)"
   ]
  },
  {
   "cell_type": "code",
   "execution_count": 493,
   "metadata": {
    "collapsed": true
   },
   "outputs": [],
   "source": [
    "Y_test = Series(clf.predict(X_test),name=\"Business_Sourced\")"
   ]
  },
  {
   "cell_type": "code",
   "execution_count": 494,
   "metadata": {
    "collapsed": true
   },
   "outputs": [],
   "source": [
    "out3 = pd.concat([data.loc[data[\"Train\"]==False,\"ID\"],Y_test],axis=1)"
   ]
  },
  {
   "cell_type": "code",
   "execution_count": 495,
   "metadata": {
    "collapsed": true
   },
   "outputs": [],
   "source": [
    "out3.to_csv(\"ada.csv\")"
   ]
  },
  {
   "cell_type": "markdown",
   "metadata": {},
   "source": [
    "## gradient boosting"
   ]
  },
  {
   "cell_type": "code",
   "execution_count": 530,
   "metadata": {
    "collapsed": false
   },
   "outputs": [
    {
     "name": "stdout",
     "output_type": "stream",
     "text": [
      "0.943455588903\n"
     ]
    }
   ],
   "source": [
    "from sklearn.ensemble import GradientBoostingClassifier\n",
    "depth = 5\n",
    "clf = GradientBoostingClassifier(n_estimators=500, learning_rate=1.0, max_depth=i)\n",
    "clf.fit(X_train, Y_train)\n",
    "print(roc_auc_score(Y_train,clf.predict(X_train)))"
   ]
  },
  {
   "cell_type": "code",
   "execution_count": 531,
   "metadata": {
    "collapsed": true
   },
   "outputs": [],
   "source": [
    "Y_test = Series(clf.predict(X_test),name=\"Business_Sourced\")\n",
    "out4 = pd.concat([data.loc[data[\"Train\"]==False,\"ID\"],Y_test],axis=1)\n",
    "out4.to_csv(\"gra.csv\")"
   ]
  },
  {
   "cell_type": "code",
   "execution_count": 515,
   "metadata": {
    "collapsed": false
   },
   "outputs": [
    {
     "data": {
      "text/plain": [
       "Applicant_Marital_Status_M             0.020655\n",
       "Applicant_Marital_Status_S             0.024194\n",
       "Applicant_Occupation_Business          0.022708\n",
       "Applicant_Occupation_Others            0.022410\n",
       "Applicant_Occupation_Salaried          0.040903\n",
       "Applicant_Occupation_Student           0.001135\n",
       "Applicant_Occupation_missing           0.120772\n",
       "Applicant_Qualification_Class X        0.002404\n",
       "Applicant_Qualification_Class XII     -0.001588\n",
       "Applicant_Qualification_Graduate       0.041957\n",
       "Applicant_Qualification_Others         0.002442\n",
       "Manager_Current_Designation_Level 1    0.019842\n",
       "Manager_Current_Designation_Level 2    0.021207\n",
       "Manager_Current_Designation_Level 3    0.009543\n",
       "Manager_Current_Designation_Level 4    0.003185\n",
       "Manager_Current_Designation_missing   -0.069515\n",
       "Manager_Joining_Designation_Level 1    0.018783\n",
       "Manager_Joining_Designation_Level 2    0.015076\n",
       "Manager_Joining_Designation_Level 3    0.014380\n",
       "Manager_Joining_Designation_Level 4    0.002192\n",
       "Manager_Joining_Designation_Other      0.000139\n",
       "Manager_Joining_Designation_missing    0.001581\n",
       "Manager_Status_Confirmation            0.004377\n",
       "Manager_Status_Probation               0.004995\n",
       "Applicant_Age                          0.347069\n",
       "Manager_Exp                            0.026413\n",
       "Manager_Num_Application                0.215506\n",
       "Manager_Num_Coded                      0.042920\n",
       "B1                                     0.046966\n",
       "B2                                     0.146027\n",
       "N1                                     0.043353\n",
       "N2                                    -0.236029\n",
       "dtype: float64"
      ]
     },
     "execution_count": 515,
     "metadata": {},
     "output_type": "execute_result"
    }
   ],
   "source": [
    "Series(clf.feature_importances_,index=X_train.columns)"
   ]
  },
  {
   "cell_type": "code",
   "execution_count": 536,
   "metadata": {
    "collapsed": false
   },
   "outputs": [],
   "source": [
    "from sklearn import cross_validation, metrics   #Additional scklearn functions\n",
    "from sklearn.grid_search import GridSearchCV   #Perforing grid search\n",
    "import matplotlib.pylab as plt\n",
    "%matplotlib inline\n",
    "from matplotlib.pylab import rcParams\n",
    "rcParams['figure.figsize'] = 12, 4\n",
    "\n",
    "def modelfit(alg, dtrain, predictors, performCV=True, printFeatureImportance=True, cv_folds=5):\n",
    "    #Fit the algorithm on the data\n",
    "    alg.fit(dtrain[predictors], Y_train)\n",
    "        \n",
    "    #Predict training set:\n",
    "    dtrain_predictions = alg.predict(dtrain[predictors])\n",
    "    dtrain_predprob = alg.predict_proba(dtrain[predictors])[:,1]\n",
    "    \n",
    "    #Perform cross-validation:\n",
    "    if performCV:\n",
    "        cv_score = cross_validation.cross_val_score(alg, dtrain[predictors], Y_train, cv=cv_folds, scoring='roc_auc')\n",
    "    \n",
    "    #Print model report:\n",
    "    print(\"\\nModel Report\")\n",
    "    print(\"Accuracy : %.4g\" % metrics.accuracy_score(Y_train.values, dtrain_predictions))\n",
    "    print(\"AUC Score (Train): %f\" % metrics.roc_auc_score(Y_train, dtrain_predprob))\n",
    "    \n",
    "    if performCV:\n",
    "        print(\"CV Score : Mean - %.7g | Std - %.7g | Min - %.7g | Max - %.7g\" % (np.mean(cv_score),np.std(cv_score),np.min(cv_score),np.max(cv_score)))\n",
    "        \n",
    "    #Print Feature Importance:\n",
    "    if printFeatureImportance:\n",
    "        feat_imp = pd.Series(alg.feature_importances_, predictors).sort_values(ascending=False)\n",
    "        feat_imp.plot(kind='bar', title='Feature Importances')\n",
    "        plt.ylabel('Feature Importance Score')"
   ]
  },
  {
   "cell_type": "code",
   "execution_count": 537,
   "metadata": {
    "collapsed": false
   },
   "outputs": [
    {
     "name": "stdout",
     "output_type": "stream",
     "text": [
      "\n",
      "Model Report\n",
      "Accuracy : 0.6751\n",
      "AUC Score (Train): 0.668509\n",
      "CV Score : Mean - 0.5591809 | Std - 0.01419482 | Min - 0.5365675 | Max - 0.5775103\n"
     ]
    },
    {
     "data": {
      "image/png": "[encoded data removed]",
      "text/plain": [
       "<matplotlib.figure.Figure at 0x7fe76f360e48>"
      ]
     },
     "metadata": {},
     "output_type": "display_data"
    }
   ],
   "source": [
    "predictors = [x for x in X_train.columns]\n",
    "gbm0 = GradientBoostingClassifier(random_state=10)\n",
    "modelfit(gbm0, X_train, predictors)"
   ]
  },
  {
   "cell_type": "code",
   "execution_count": 546,
   "metadata": {
    "collapsed": false
   },
   "outputs": [
    {
     "data": {
      "text/plain": [
       "GridSearchCV(cv=5, error_score='raise',\n",
       "       estimator=GradientBoostingClassifier(init=None, learning_rate=0.1, loss='deviance',\n",
       "              max_depth=5, max_features='sqrt', max_leaf_nodes=None,\n",
       "              min_samples_leaf=50, min_samples_split=100,\n",
       "              min_weight_fraction_leaf=0.0, n_estimators=100,\n",
       "              presort='auto', random_state=10, subsample=0.8, verbose=0,\n",
       "              warm_start=False),\n",
       "       fit_params={}, iid=False, n_jobs=4,\n",
       "       param_grid=[{'n_estimators': [20, 30, 40, 50, 60, 70, 80]}],\n",
       "       pre_dispatch='2*n_jobs', refit=True, scoring='roc_auc', verbose=0)"
      ]
     },
     "execution_count": 546,
     "metadata": {},
     "output_type": "execute_result"
    }
   ],
   "source": [
    "param_test1 = [{'n_estimators':[20, 30, 40, 50, 60, 70, 80]}]\n",
    "gsearch1 = GridSearchCV(estimator = GradientBoostingClassifier(learning_rate=0.1, min_samples_split=100,min_samples_leaf=50,max_depth=5,max_features='sqrt',subsample=0.8,random_state=10), param_grid = param_test1, scoring='roc_auc',n_jobs=4,iid=False, cv=5)\n",
    "gsearch1.fit(X_train[predictors],Y_train)"
   ]
  },
  {
   "cell_type": "code",
   "execution_count": 547,
   "metadata": {
    "collapsed": false
   },
   "outputs": [
    {
     "data": {
      "text/plain": [
       "([mean: 0.55445, std: 0.01597, params: {'n_estimators': 20},\n",
       "  mean: 0.55871, std: 0.01331, params: {'n_estimators': 30},\n",
       "  mean: 0.55606, std: 0.01390, params: {'n_estimators': 40},\n",
       "  mean: 0.55692, std: 0.01557, params: {'n_estimators': 50},\n",
       "  mean: 0.55438, std: 0.01332, params: {'n_estimators': 60},\n",
       "  mean: 0.55332, std: 0.01259, params: {'n_estimators': 70},\n",
       "  mean: 0.55284, std: 0.01078, params: {'n_estimators': 80}],\n",
       " {'n_estimators': 30},\n",
       " 0.55870771818408338)"
      ]
     },
     "execution_count": 547,
     "metadata": {},
     "output_type": "execute_result"
    }
   ],
   "source": [
    "gsearch1.grid_scores_, gsearch1.best_params_, gsearch1.best_score_"
   ]
  },
  {
   "cell_type": "code",
   "execution_count": 15,
   "metadata": {
    "collapsed": false
   },
   "outputs": [
    {
     "data": {
      "text/plain": [
       "Application_Receipt_Date\n",
       "1/1/2008      20\n",
       "1/10/2008     30\n",
       "1/11/2008     28\n",
       "1/12/2008     20\n",
       "1/14/2008      9\n",
       "1/15/2008     15\n",
       "1/16/2008     23\n",
       "1/17/2008     25\n",
       "1/18/2008      9\n",
       "1/19/2008     14\n",
       "1/2/2008      85\n",
       "1/21/2008     15\n",
       "1/22/2008     22\n",
       "1/23/2008     19\n",
       "1/24/2008     18\n",
       "1/25/2008     13\n",
       "1/26/2008      9\n",
       "1/29/2008      8\n",
       "1/30/2008     10\n",
       "1/31/2008     14\n",
       "1/4/2008      13\n",
       "1/5/2008      12\n",
       "1/7/2008      25\n",
       "1/8/2008      34\n",
       "1/9/2008      40\n",
       "10/1/2007      6\n",
       "10/10/2007    22\n",
       "10/11/2007    40\n",
       "10/12/2007    30\n",
       "10/13/2007    27\n",
       "              ..\n",
       "8/7/2007      41\n",
       "8/8/2007      58\n",
       "8/9/2007      67\n",
       "9/1/2007      12\n",
       "9/10/2007     32\n",
       "9/11/2007     20\n",
       "9/12/2007     31\n",
       "9/13/2007     40\n",
       "9/14/2007     26\n",
       "9/15/2007     27\n",
       "9/17/2007     30\n",
       "9/18/2007     32\n",
       "9/19/2007     25\n",
       "9/2/2007       8\n",
       "9/20/2007     27\n",
       "9/21/2007     26\n",
       "9/22/2007      4\n",
       "9/24/2007     16\n",
       "9/25/2007     21\n",
       "9/26/2007     19\n",
       "9/27/2007     20\n",
       "9/28/2007     17\n",
       "9/29/2007      7\n",
       "9/3/2007       2\n",
       "9/30/2007      2\n",
       "9/4/2007      20\n",
       "9/5/2007      13\n",
       "9/6/2007      12\n",
       "9/7/2007      18\n",
       "9/8/2007      15\n",
       "Name: Business_Sourced, dtype: int64"
      ]
     },
     "execution_count": 15,
     "metadata": {},
     "output_type": "execute_result"
    }
   ],
   "source": [
    "train.groupby([\"Application_Receipt_Date\"]).count()[\"Business_Sourced\"]"
   ]
  },
  {
   "cell_type": "code",
   "execution_count": null,
   "metadata": {
    "collapsed": true
   },
   "outputs": [],
   "source": []
  }
 ],
 "metadata": {
  "kernelspec": {
   "display_name": "Python 3",
   "language": "python",
   "name": "python3"
  },
  "language_info": {
   "codemirror_mode": {
    "name": "ipython",
    "version": 3
   },
   "file_extension": ".py",
   "mimetype": "text/x-python",
   "name": "python",
   "nbconvert_exporter": "python",
   "pygments_lexer": "ipython3",
   "version": "3.5.2"
  }
 },
 "nbformat": 4,
 "nbformat_minor": 0
}
